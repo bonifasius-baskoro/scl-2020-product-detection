{
 "cells": [
  {
   "cell_type": "markdown",
   "execution_count": null,
   "metadata": {},
   "source": [
    "# Library"
   ]
  },
  {
   "cell_type": "code",
   "execution_count": 1,
   "metadata": {},
   "outputs": [
    {
     "name": "stdout",
     "output_type": "stream",
     "text": [
      "Collecting keras_ocr\r\n",
      "  Downloading keras-ocr-0.8.4.tar.gz (166 kB)\r\n",
      "\u001b[K     |████████████████████████████████| 166 kB 8.2 MB/s \r\n",
      "\u001b[?25hCollecting essential_generators\r\n",
      "  Downloading essential_generators-0.9.2-py3-none-any.whl (9.5 MB)\r\n",
      "\u001b[K     |████████████████████████████████| 9.5 MB 13.0 MB/s \r\n",
      "\u001b[?25hRequirement already satisfied: tqdm in /opt/conda/lib/python3.7/site-packages (from keras_ocr) (4.45.0)\r\n",
      "Requirement already satisfied: imgaug in /opt/conda/lib/python3.7/site-packages (from keras_ocr) (0.2.6)\r\n",
      "Collecting validators\r\n",
      "  Downloading validators-0.15.0.tar.gz (27 kB)\r\n",
      "Collecting fonttools\r\n",
      "  Downloading fonttools-4.12.1-py3-none-any.whl (803 kB)\r\n",
      "\u001b[K     |████████████████████████████████| 803 kB 44.2 MB/s \r\n",
      "\u001b[?25hCollecting editdistance\r\n",
      "  Downloading editdistance-0.5.3-cp37-cp37m-manylinux1_x86_64.whl (179 kB)\r\n",
      "\u001b[K     |████████████████████████████████| 179 kB 49.1 MB/s \r\n",
      "\u001b[?25hCollecting pyclipper\r\n",
      "  Downloading pyclipper-1.1.0.post3-cp37-cp37m-manylinux1_x86_64.whl (131 kB)\r\n",
      "\u001b[K     |████████████████████████████████| 131 kB 53.2 MB/s \r\n",
      "\u001b[?25hRequirement already satisfied: shapely in /opt/conda/lib/python3.7/site-packages (from keras_ocr) (1.7.0)\r\n",
      "Collecting efficientnet==1.0.0\r\n",
      "  Downloading efficientnet-1.0.0-py3-none-any.whl (17 kB)\r\n",
      "Requirement already satisfied: numpy>=1.7.0 in /opt/conda/lib/python3.7/site-packages (from imgaug->keras_ocr) (1.18.1)\r\n",
      "Requirement already satisfied: six in /opt/conda/lib/python3.7/site-packages (from imgaug->keras_ocr) (1.14.0)\r\n",
      "Requirement already satisfied: scikit-image>=0.11.0 in /opt/conda/lib/python3.7/site-packages (from imgaug->keras_ocr) (0.16.2)\r\n",
      "Requirement already satisfied: scipy in /opt/conda/lib/python3.7/site-packages (from imgaug->keras_ocr) (1.4.1)\r\n",
      "Requirement already satisfied: decorator>=3.4.0 in /opt/conda/lib/python3.7/site-packages (from validators->keras_ocr) (4.4.2)\r\n",
      "Collecting keras-applications<=1.0.8,>=1.0.7\r\n",
      "  Downloading Keras_Applications-1.0.8-py3-none-any.whl (50 kB)\r\n",
      "\u001b[K     |████████████████████████████████| 50 kB 5.1 MB/s \r\n",
      "\u001b[?25hRequirement already satisfied: matplotlib!=3.0.0,>=2.0.0 in /opt/conda/lib/python3.7/site-packages (from scikit-image>=0.11.0->imgaug->keras_ocr) (3.2.1)\r\n",
      "Requirement already satisfied: networkx>=2.0 in /opt/conda/lib/python3.7/site-packages (from scikit-image>=0.11.0->imgaug->keras_ocr) (2.4)\r\n",
      "Requirement already satisfied: pillow>=4.3.0 in /opt/conda/lib/python3.7/site-packages (from scikit-image>=0.11.0->imgaug->keras_ocr) (5.4.1)\r\n",
      "Requirement already satisfied: imageio>=2.3.0 in /opt/conda/lib/python3.7/site-packages (from scikit-image>=0.11.0->imgaug->keras_ocr) (2.8.0)\r\n",
      "Requirement already satisfied: PyWavelets>=0.4.0 in /opt/conda/lib/python3.7/site-packages (from scikit-image>=0.11.0->imgaug->keras_ocr) (1.1.1)\r\n",
      "Requirement already satisfied: h5py in /opt/conda/lib/python3.7/site-packages (from keras-applications<=1.0.8,>=1.0.7->efficientnet==1.0.0->keras_ocr) (2.10.0)\r\n",
      "Requirement already satisfied: pyparsing!=2.0.4,!=2.1.2,!=2.1.6,>=2.0.1 in /opt/conda/lib/python3.7/site-packages (from matplotlib!=3.0.0,>=2.0.0->scikit-image>=0.11.0->imgaug->keras_ocr) (2.4.7)\r\n",
      "Requirement already satisfied: kiwisolver>=1.0.1 in /opt/conda/lib/python3.7/site-packages (from matplotlib!=3.0.0,>=2.0.0->scikit-image>=0.11.0->imgaug->keras_ocr) (1.2.0)\r\n",
      "Requirement already satisfied: cycler>=0.10 in /opt/conda/lib/python3.7/site-packages (from matplotlib!=3.0.0,>=2.0.0->scikit-image>=0.11.0->imgaug->keras_ocr) (0.10.0)\r\n",
      "Requirement already satisfied: python-dateutil>=2.1 in /opt/conda/lib/python3.7/site-packages (from matplotlib!=3.0.0,>=2.0.0->scikit-image>=0.11.0->imgaug->keras_ocr) (2.8.1)\r\n",
      "Building wheels for collected packages: keras-ocr, validators\r\n",
      "  Building wheel for keras-ocr (setup.py) ... \u001b[?25l-\b \b\\\b \bdone\r\n",
      "\u001b[?25h  Created wheel for keras-ocr: filename=keras_ocr-0.8.4-py3-none-any.whl size=148638 sha256=abab728252aa505fe177599a0a576fff9d802ae2a81015e972e7a4f1d042dbcd\r\n",
      "  Stored in directory: /root/.cache/pip/wheels/a6/d8/34/518e393455207f8752d5777d1c174617d200cab5a5ed7bf2ad\r\n",
      "  Building wheel for validators (setup.py) ... \u001b[?25l-\b \b\\\b \bdone\r\n",
      "\u001b[?25h  Created wheel for validators: filename=validators-0.15.0-py3-none-any.whl size=18371 sha256=aca6b97caaac6dc08bdb3529e2a2fe798788e981f72a871722e4f967cbe01f28\r\n",
      "  Stored in directory: /root/.cache/pip/wheels/ff/a1/08/0650ea8df7821ecd87760d16213b53dd23403927a69a388268\r\n",
      "Successfully built keras-ocr validators\r\n",
      "Installing collected packages: essential-generators, validators, fonttools, editdistance, pyclipper, keras-applications, efficientnet, keras-ocr\r\n",
      "Successfully installed editdistance-0.5.3 efficientnet-1.0.0 essential-generators-0.9.2 fonttools-4.12.1 keras-applications-1.0.8 keras-ocr-0.8.4 pyclipper-1.1.0.post3 validators-0.15.0\r\n"
     ]
    }
   ],
   "source": [
    "!pip install keras_ocr"
   ]
  },
  {
   "cell_type": "code",
   "execution_count": 2,
   "metadata": {},
   "outputs": [],
   "source": [
    "!pip freeze > requirements.txt"
   ]
  },
  {
   "cell_type": "code",
   "execution_count": 3,
   "metadata": {
    "_cell_guid": "b1076dfc-b9ad-4769-8c92-a6c4dae69d19",
    "_uuid": "8f2839f25d086af736a60e9eeb907d3b93b6e0e5"
   },
   "outputs": [],
   "source": [
    "import matplotlib.pyplot as plt\n",
    "import keras_ocr\n",
    "\n",
    "import numpy as np\n",
    "import pandas as pd\n",
    "\n",
    "from time import time\n",
    "import re\n",
    "import itertools\n",
    "import multiprocessing\n",
    "import gc"
   ]
  },
  {
   "cell_type": "code",
   "execution_count": 4,
   "metadata": {},
   "outputs": [
    {
     "name": "stdout",
     "output_type": "stream",
     "text": [
      "Numpy version: 1.18.1\n",
      "Pandas version: 1.0.3\n"
     ]
    }
   ],
   "source": [
    "print('Numpy version:', np.__version__)\n",
    "print('Pandas version:', pd.__version__)"
   ]
  },
  {
   "cell_type": "markdown",
   "execution_count": null,
   "metadata": {},
   "source": [
    "# Dataset"
   ]
  },
  {
   "cell_type": "code",
   "execution_count": 5,
   "metadata": {
    "_cell_guid": "79c7e3d0-c299-4dcb-8224-4455121ee9b0",
    "_uuid": "d629ff2d2480ee46fbb7e2d37f6b5fab8052498a"
   },
   "outputs": [
    {
     "name": "stdout",
     "output_type": "stream",
     "text": [
      "shopee-product-detection-student\r\n"
     ]
    }
   ],
   "source": [
    "!ls /kaggle/input"
   ]
  },
  {
   "cell_type": "code",
   "execution_count": 6,
   "metadata": {},
   "outputs": [
    {
     "data": {
      "text/html": [
       "<div>\n",
       "<style scoped>\n",
       "    .dataframe tbody tr th:only-of-type {\n",
       "        vertical-align: middle;\n",
       "    }\n",
       "\n",
       "    .dataframe tbody tr th {\n",
       "        vertical-align: top;\n",
       "    }\n",
       "\n",
       "    .dataframe thead th {\n",
       "        text-align: right;\n",
       "    }\n",
       "</style>\n",
       "<table border=\"1\" class=\"dataframe\">\n",
       "  <thead>\n",
       "    <tr style=\"text-align: right;\">\n",
       "      <th></th>\n",
       "      <th>filename</th>\n",
       "      <th>category</th>\n",
       "    </tr>\n",
       "  </thead>\n",
       "  <tbody>\n",
       "    <tr>\n",
       "      <th>0</th>\n",
       "      <td>45e2d0c97f7bdf8cbf3594beb6fdcda0.jpg</td>\n",
       "      <td>03</td>\n",
       "    </tr>\n",
       "    <tr>\n",
       "      <th>1</th>\n",
       "      <td>f74d1a5fc2498bbbfa045c74e3cc333e.jpg</td>\n",
       "      <td>03</td>\n",
       "    </tr>\n",
       "    <tr>\n",
       "      <th>2</th>\n",
       "      <td>f6c172096818c5fab10ecae722840798.jpg</td>\n",
       "      <td>03</td>\n",
       "    </tr>\n",
       "    <tr>\n",
       "      <th>3</th>\n",
       "      <td>251ffd610399ac00fea7709c642676ee.jpg</td>\n",
       "      <td>03</td>\n",
       "    </tr>\n",
       "    <tr>\n",
       "      <th>4</th>\n",
       "      <td>73c7328b8eda399199fdedec6e4badaf.jpg</td>\n",
       "      <td>03</td>\n",
       "    </tr>\n",
       "  </tbody>\n",
       "</table>\n",
       "</div>"
      ],
      "text/plain": [
       "                               filename category\n",
       "0  45e2d0c97f7bdf8cbf3594beb6fdcda0.jpg       03\n",
       "1  f74d1a5fc2498bbbfa045c74e3cc333e.jpg       03\n",
       "2  f6c172096818c5fab10ecae722840798.jpg       03\n",
       "3  251ffd610399ac00fea7709c642676ee.jpg       03\n",
       "4  73c7328b8eda399199fdedec6e4badaf.jpg       03"
      ]
     },
     "execution_count": 6,
     "metadata": {},
     "output_type": "execute_result"
    }
   ],
   "source": [
    "df = pd.read_csv('/kaggle/input/shopee-product-detection-student/train.csv', dtype='object')\n",
    "df['category'] = df['category'].apply(lambda c: str(c).zfill(2))\n",
    "df.head()"
   ]
  },
  {
   "cell_type": "code",
   "execution_count": 7,
   "metadata": {},
   "outputs": [],
   "source": [
    "paths = []\n",
    "for i in df.index:\n",
    "    paths.append(f'/kaggle/input/shopee-product-detection-student/train/train/train/{df.loc[i, \"category\"]}/{df.loc[i, \"filename\"]}')"
   ]
  },
  {
   "cell_type": "markdown",
   "execution_count": null,
   "metadata": {},
   "source": [
    "# Config OCR"
   ]
  },
  {
   "cell_type": "code",
   "execution_count": 8,
   "metadata": {},
   "outputs": [
    {
     "name": "stdout",
     "output_type": "stream",
     "text": [
      "Looking for /root/.keras-ocr/craft_mlt_25k.h5\n",
      "Downloading /root/.keras-ocr/craft_mlt_25k.h5\n",
      "Looking for /root/.keras-ocr/crnn_kurapan.h5\n",
      "Downloading /root/.keras-ocr/crnn_kurapan.h5\n"
     ]
    }
   ],
   "source": [
    "pipeline = keras_ocr.pipeline.Pipeline()"
   ]
  },
  {
   "cell_type": "code",
   "execution_count": 9,
   "metadata": {},
   "outputs": [],
   "source": [
    "# part 1 = 0:26347\n",
    "# part 2 = 26347:52695\n",
    "# part 3 = 52695:79042 (CURRENT)\n",
    "# part 4 = 79042:TOTAL_IMAGES\n",
    "TOTAL_IMAGES = len(paths)\n",
    "BATCH_PREDICT = 5\n",
    "\n",
    "START_INDEX = 52695\n",
    "END_INDEX = 79042\n",
    "\n",
    "list_texts = []"
   ]
  },
  {
   "cell_type": "markdown",
   "execution_count": null,
   "metadata": {},
   "source": [
    "# Predict"
   ]
  },
  {
   "cell_type": "code",
   "execution_count": 10,
   "metadata": {},
   "outputs": [],
   "source": [
    "for i in range(START_INDEX, END_INDEX, BATCH_PREDICT):\n",
    "    try:\n",
    "        if i + BATCH_PREDICT < END_INDEX:\n",
    "            images = [keras_ocr.tools.read(p) for p in paths[i:i + BATCH_PREDICT]]\n",
    "        else:\n",
    "            images = [keras_ocr.tools.read(p) for p in paths[i:END_INDEX]]\n",
    "\n",
    "        prediction_groups = pipeline.recognize(images)\n",
    "\n",
    "        for x in range(len(prediction_groups)):\n",
    "            texts = []\n",
    "\n",
    "            for y in range(len(prediction_groups[x])):\n",
    "                texts.append(prediction_groups[x][y][0])\n",
    "\n",
    "            list_texts.append(texts)\n",
    "        gc.collect()\n",
    "    except:\n",
    "        if i + BATCH_PREDICT < END_INDEX:\n",
    "            for j in range(BATCH_PREDICT):\n",
    "                list_texts.append([])\n",
    "        else:\n",
    "            for j in range(END_INDEX - i):\n",
    "                list_texts.append([])"
   ]
  },
  {
   "cell_type": "code",
   "execution_count": 11,
   "metadata": {},
   "outputs": [
    {
     "data": {
      "text/plain": [
       "0                                               [daba, is]\n",
       "1        [rashyacollestion, seiv, by, onyx, gade, qr, l...\n",
       "2        [minion, selalu, menjadi, a, minion, papoy, mu...\n",
       "3                                                       []\n",
       "4                                               [un, fuud]\n",
       "                               ...                        \n",
       "26342    [m206, mlz, m205, m17b, m125, 22, miz1, m120, ...\n",
       "26343                                                  [a]\n",
       "26344    [nneexiadingdanis, nttn, sllshopees, twlxiaod,...\n",
       "26345                                                   []\n",
       "26346            [s, down, knock, stand, enema, hoo, grid]\n",
       "Length: 26347, dtype: object"
      ]
     },
     "execution_count": 11,
     "metadata": {},
     "output_type": "execute_result"
    }
   ],
   "source": [
    "sr_text = pd.Series(list_texts)\n",
    "sr_text"
   ]
  },
  {
   "cell_type": "code",
   "execution_count": 12,
   "metadata": {},
   "outputs": [],
   "source": [
    "sr_text.to_csv('train2c.csv', index=False, header=False)"
   ]
  }
 ],
 "metadata": {
  "kernelspec": {
   "display_name": "Python 3",
   "language": "python",
   "name": "python3"
  },
  "language_info": {
   "codemirror_mode": {
    "name": "ipython",
    "version": 3
   },
   "file_extension": ".py",
   "mimetype": "text/x-python",
   "name": "python",
   "nbconvert_exporter": "python",
   "pygments_lexer": "ipython3",
   "version": "3.7.6"
  }
 },
 "nbformat": 4,
 "nbformat_minor": 4
}
