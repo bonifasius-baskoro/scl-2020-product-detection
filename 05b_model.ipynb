{
 "cells": [
  {
   "cell_type": "markdown",
   "execution_count": null,
   "metadata": {},
   "source": [
    "### We will share our pipeline and it's source code on https://github.com/ilos-vigil/scl-2020-product-detection\n",
    "\n",
    "For current best submission (0.85325 on public leaderboard), see https://www.kaggle.com/ilosvigil/scl2020-2-5-model?scriptVersionId=37953296"
   ]
  },
  {
   "cell_type": "markdown",
   "execution_count": null,
   "metadata": {},
   "source": [
    "# This notebook in nutshell\n",
    "\n",
    "> This notebook source code based on [Ensemble, LAMB & GridMask on TPU](https://www.kaggle.com/ilosvigil/ensemble-lamb-gridmask-on-tpu) version 37 and 43\n",
    "\n",
    "* Multimodal Deep Learning\n",
    "    * Image\n",
    "    * Text (from OCR)\n",
    "* Dynamic image augmentation\n",
    "    * GridMask (https://arxiv.org/abs/2001.04086) from [GridMask data augmentation with tensorflow](https://www.kaggle.com/xiejialun/gridmask-data-augmentation-with-tensorflow)\n",
    "    * Rotate, shear, zoom, shift from [Rotation Augmentation GPU/TPU - [0.96+]](https://www.kaggle.com/cdeotte/rotation-augmentation-gpu-tpu-0-96)\n",
    "    * [tf.image](https://www.tensorflow.org/api_docs/python/tf/image) functions\n",
    "* TF-IDF word representation\n",
    "    * L2 normalization\n",
    "    * Sublinear Term Frequency\n",
    "* EfficientNet B7 (https://arxiv.org/abs/1905.11946)\n",
    "* Global Average Pooling (https://arxiv.org/abs/1312.4400)\n",
    "* LAMB optimizer (https://arxiv.org/abs/1904.00962)\n",
    "* MLP / Multi Layer Perceptron\n",
    "* TTA / Test Time Augmentation\n",
    "* TPU v3-8"
   ]
  },
  {
   "cell_type": "markdown",
   "execution_count": null,
   "metadata": {},
   "source": [
    "# Library"
   ]
  },
  {
   "cell_type": "code",
   "execution_count": 1,
   "metadata": {
    "_cell_guid": "79c7e3d0-c299-4dcb-8224-4455121ee9b0",
    "_uuid": "d629ff2d2480ee46fbb7e2d37f6b5fab8052498a"
   },
   "outputs": [
    {
     "name": "stdout",
     "output_type": "stream",
     "text": [
      "Collecting efficientnet\r\n",
      "  Downloading efficientnet-1.1.0-py3-none-any.whl (18 kB)\r\n",
      "Requirement already up-to-date: tensorflow_addons in /opt/conda/lib/python3.7/site-packages (0.10.0)\r\n",
      "Requirement already up-to-date: tensorflow in /opt/conda/lib/python3.7/site-packages (2.2.0)\r\n",
      "Requirement already satisfied, skipping upgrade: scikit-image in /opt/conda/lib/python3.7/site-packages (from efficientnet) (0.16.2)\r\n",
      "Collecting keras-applications<=1.0.8,>=1.0.7\r\n",
      "  Downloading Keras_Applications-1.0.8-py3-none-any.whl (50 kB)\r\n",
      "\u001b[K     |████████████████████████████████| 50 kB 2.2 MB/s \r\n",
      "\u001b[?25hRequirement already satisfied, skipping upgrade: typeguard>=2.7 in /opt/conda/lib/python3.7/site-packages (from tensorflow_addons) (2.9.1)\r\n",
      "Requirement already satisfied, skipping upgrade: tensorflow-estimator<2.3.0,>=2.2.0 in /opt/conda/lib/python3.7/site-packages (from tensorflow) (2.2.0)\r\n",
      "Requirement already satisfied, skipping upgrade: scipy==1.4.1; python_version >= \"3\" in /opt/conda/lib/python3.7/site-packages (from tensorflow) (1.4.1)\r\n",
      "Requirement already satisfied, skipping upgrade: wheel>=0.26; python_version >= \"3\" in /opt/conda/lib/python3.7/site-packages (from tensorflow) (0.34.2)\r\n",
      "Requirement already satisfied, skipping upgrade: six>=1.12.0 in /opt/conda/lib/python3.7/site-packages (from tensorflow) (1.14.0)\r\n",
      "Requirement already satisfied, skipping upgrade: termcolor>=1.1.0 in /opt/conda/lib/python3.7/site-packages (from tensorflow) (1.1.0)\r\n",
      "Requirement already satisfied, skipping upgrade: tensorboard<2.3.0,>=2.2.0 in /opt/conda/lib/python3.7/site-packages (from tensorflow) (2.2.2)\r\n",
      "Requirement already satisfied, skipping upgrade: h5py<2.11.0,>=2.10.0 in /opt/conda/lib/python3.7/site-packages (from tensorflow) (2.10.0)\r\n",
      "Requirement already satisfied, skipping upgrade: wrapt>=1.11.1 in /opt/conda/lib/python3.7/site-packages (from tensorflow) (1.11.2)\r\n",
      "Requirement already satisfied, skipping upgrade: gast==0.3.3 in /opt/conda/lib/python3.7/site-packages (from tensorflow) (0.3.3)\r\n",
      "Requirement already satisfied, skipping upgrade: grpcio>=1.8.6 in /opt/conda/lib/python3.7/site-packages (from tensorflow) (1.29.0)\r\n",
      "Requirement already satisfied, skipping upgrade: opt-einsum>=2.3.2 in /opt/conda/lib/python3.7/site-packages (from tensorflow) (3.2.1)\r\n",
      "Requirement already satisfied, skipping upgrade: protobuf>=3.8.0 in /opt/conda/lib/python3.7/site-packages (from tensorflow) (3.12.2)\r\n",
      "Requirement already satisfied, skipping upgrade: numpy<2.0,>=1.16.0 in /opt/conda/lib/python3.7/site-packages (from tensorflow) (1.18.1)\r\n",
      "Requirement already satisfied, skipping upgrade: keras-preprocessing>=1.1.0 in /opt/conda/lib/python3.7/site-packages (from tensorflow) (1.1.2)\r\n",
      "Requirement already satisfied, skipping upgrade: google-pasta>=0.1.8 in /opt/conda/lib/python3.7/site-packages (from tensorflow) (0.2.0)\r\n",
      "Requirement already satisfied, skipping upgrade: astunparse==1.6.3 in /opt/conda/lib/python3.7/site-packages (from tensorflow) (1.6.3)\r\n",
      "Requirement already satisfied, skipping upgrade: absl-py>=0.7.0 in /opt/conda/lib/python3.7/site-packages (from tensorflow) (0.9.0)\r\n",
      "Requirement already satisfied, skipping upgrade: matplotlib!=3.0.0,>=2.0.0 in /opt/conda/lib/python3.7/site-packages (from scikit-image->efficientnet) (3.2.1)\r\n",
      "Requirement already satisfied, skipping upgrade: networkx>=2.0 in /opt/conda/lib/python3.7/site-packages (from scikit-image->efficientnet) (2.4)\r\n",
      "Requirement already satisfied, skipping upgrade: pillow>=4.3.0 in /opt/conda/lib/python3.7/site-packages (from scikit-image->efficientnet) (5.4.1)\r\n",
      "Requirement already satisfied, skipping upgrade: imageio>=2.3.0 in /opt/conda/lib/python3.7/site-packages (from scikit-image->efficientnet) (2.8.0)\r\n",
      "Requirement already satisfied, skipping upgrade: PyWavelets>=0.4.0 in /opt/conda/lib/python3.7/site-packages (from scikit-image->efficientnet) (1.1.1)\r\n",
      "Requirement already satisfied, skipping upgrade: tensorboard-plugin-wit>=1.6.0 in /opt/conda/lib/python3.7/site-packages (from tensorboard<2.3.0,>=2.2.0->tensorflow) (1.6.0.post3)\r\n",
      "Requirement already satisfied, skipping upgrade: google-auth-oauthlib<0.5,>=0.4.1 in /opt/conda/lib/python3.7/site-packages (from tensorboard<2.3.0,>=2.2.0->tensorflow) (0.4.1)\r\n",
      "Requirement already satisfied, skipping upgrade: google-auth<2,>=1.6.3 in /opt/conda/lib/python3.7/site-packages (from tensorboard<2.3.0,>=2.2.0->tensorflow) (1.14.0)\r\n",
      "Requirement already satisfied, skipping upgrade: requests<3,>=2.21.0 in /opt/conda/lib/python3.7/site-packages (from tensorboard<2.3.0,>=2.2.0->tensorflow) (2.23.0)\r\n",
      "Requirement already satisfied, skipping upgrade: markdown>=2.6.8 in /opt/conda/lib/python3.7/site-packages (from tensorboard<2.3.0,>=2.2.0->tensorflow) (3.2.1)\r\n",
      "Requirement already satisfied, skipping upgrade: setuptools>=41.0.0 in /opt/conda/lib/python3.7/site-packages (from tensorboard<2.3.0,>=2.2.0->tensorflow) (46.1.3.post20200325)\r\n",
      "Requirement already satisfied, skipping upgrade: werkzeug>=0.11.15 in /opt/conda/lib/python3.7/site-packages (from tensorboard<2.3.0,>=2.2.0->tensorflow) (1.0.1)\r\n",
      "Requirement already satisfied, skipping upgrade: cycler>=0.10 in /opt/conda/lib/python3.7/site-packages (from matplotlib!=3.0.0,>=2.0.0->scikit-image->efficientnet) (0.10.0)\r\n",
      "Requirement already satisfied, skipping upgrade: kiwisolver>=1.0.1 in /opt/conda/lib/python3.7/site-packages (from matplotlib!=3.0.0,>=2.0.0->scikit-image->efficientnet) (1.2.0)\r\n",
      "Requirement already satisfied, skipping upgrade: pyparsing!=2.0.4,!=2.1.2,!=2.1.6,>=2.0.1 in /opt/conda/lib/python3.7/site-packages (from matplotlib!=3.0.0,>=2.0.0->scikit-image->efficientnet) (2.4.7)\r\n",
      "Requirement already satisfied, skipping upgrade: python-dateutil>=2.1 in /opt/conda/lib/python3.7/site-packages (from matplotlib!=3.0.0,>=2.0.0->scikit-image->efficientnet) (2.8.1)\r\n",
      "Requirement already satisfied, skipping upgrade: decorator>=4.3.0 in /opt/conda/lib/python3.7/site-packages (from networkx>=2.0->scikit-image->efficientnet) (4.4.2)\r\n",
      "Requirement already satisfied, skipping upgrade: requests-oauthlib>=0.7.0 in /opt/conda/lib/python3.7/site-packages (from google-auth-oauthlib<0.5,>=0.4.1->tensorboard<2.3.0,>=2.2.0->tensorflow) (1.2.0)\r\n",
      "Requirement already satisfied, skipping upgrade: cachetools<5.0,>=2.0.0 in /opt/conda/lib/python3.7/site-packages (from google-auth<2,>=1.6.3->tensorboard<2.3.0,>=2.2.0->tensorflow) (3.1.1)\r\n",
      "Requirement already satisfied, skipping upgrade: pyasn1-modules>=0.2.1 in /opt/conda/lib/python3.7/site-packages (from google-auth<2,>=1.6.3->tensorboard<2.3.0,>=2.2.0->tensorflow) (0.2.7)\r\n",
      "Requirement already satisfied, skipping upgrade: rsa<4.1,>=3.1.4 in /opt/conda/lib/python3.7/site-packages (from google-auth<2,>=1.6.3->tensorboard<2.3.0,>=2.2.0->tensorflow) (4.0)\r\n",
      "Requirement already satisfied, skipping upgrade: chardet<4,>=3.0.2 in /opt/conda/lib/python3.7/site-packages (from requests<3,>=2.21.0->tensorboard<2.3.0,>=2.2.0->tensorflow) (3.0.4)\r\n",
      "Requirement already satisfied, skipping upgrade: urllib3!=1.25.0,!=1.25.1,<1.26,>=1.21.1 in /opt/conda/lib/python3.7/site-packages (from requests<3,>=2.21.0->tensorboard<2.3.0,>=2.2.0->tensorflow) (1.24.3)\r\n",
      "Requirement already satisfied, skipping upgrade: idna<3,>=2.5 in /opt/conda/lib/python3.7/site-packages (from requests<3,>=2.21.0->tensorboard<2.3.0,>=2.2.0->tensorflow) (2.9)\r\n",
      "Requirement already satisfied, skipping upgrade: certifi>=2017.4.17 in /opt/conda/lib/python3.7/site-packages (from requests<3,>=2.21.0->tensorboard<2.3.0,>=2.2.0->tensorflow) (2020.4.5.2)\r\n",
      "Requirement already satisfied, skipping upgrade: oauthlib>=3.0.0 in /opt/conda/lib/python3.7/site-packages (from requests-oauthlib>=0.7.0->google-auth-oauthlib<0.5,>=0.4.1->tensorboard<2.3.0,>=2.2.0->tensorflow) (3.0.1)\r\n",
      "Requirement already satisfied, skipping upgrade: pyasn1<0.5.0,>=0.4.6 in /opt/conda/lib/python3.7/site-packages (from pyasn1-modules>=0.2.1->google-auth<2,>=1.6.3->tensorboard<2.3.0,>=2.2.0->tensorflow) (0.4.8)\r\n",
      "Installing collected packages: keras-applications, efficientnet\r\n",
      "Successfully installed efficientnet-1.1.0 keras-applications-1.0.8\r\n"
     ]
    }
   ],
   "source": [
    "!pip install --upgrade efficientnet tensorflow_addons tensorflow"
   ]
  },
  {
   "cell_type": "code",
   "execution_count": 2,
   "metadata": {},
   "outputs": [],
   "source": [
    "import math\n",
    "import re\n",
    "import random\n",
    "import os\n",
    "import tensorflow as tf\n",
    "import tensorflow_addons as tfa\n",
    "import numpy as np\n",
    "import tensorflow.keras.backend as K\n",
    "import efficientnet.tfkeras as efn\n",
    "import efficientnet\n",
    "import itertools\n",
    "import matplotlib\n",
    "import scipy\n",
    "import pandas as pd\n",
    "import sklearn\n",
    "from matplotlib import pyplot as plt\n",
    "from datetime import datetime"
   ]
  },
  {
   "cell_type": "code",
   "execution_count": 3,
   "metadata": {},
   "outputs": [
    {
     "name": "stdout",
     "output_type": "stream",
     "text": [
      "Numpy version : 1.18.1\n",
      "Tensorflow version : 2.2.0\n",
      "Tensorflow Addons version : 0.10.0\n",
      "EfficientNet (library) version : 1.1.0\n",
      "Matplotlib version : 3.2.1\n",
      "Scipy version : 1.4.1\n",
      "Pandas version : 1.0.3\n",
      "Scikit-Learn version : 0.23.1\n"
     ]
    }
   ],
   "source": [
    "print(f'Numpy version : {np.__version__}')\n",
    "print(f'Tensorflow version : {tf.__version__}')\n",
    "print(f'Tensorflow Addons version : {tfa.__version__}')\n",
    "print(f'EfficientNet (library) version : {efficientnet.__version__}')\n",
    "print(f'Matplotlib version : {matplotlib.__version__}')\n",
    "print(f'Scipy version : {scipy.__version__}')\n",
    "print(f'Pandas version : {pd.__version__}')\n",
    "print(f'Scikit-Learn version : {sklearn.__version__}')"
   ]
  },
  {
   "cell_type": "code",
   "execution_count": 4,
   "metadata": {},
   "outputs": [],
   "source": [
    "!pip freeze > requirements.txt"
   ]
  },
  {
   "cell_type": "code",
   "execution_count": 5,
   "metadata": {},
   "outputs": [],
   "source": [
    "PRE_TRAINING_TIME_START = datetime.now()\n",
    "AUTO = tf.data.experimental.AUTOTUNE"
   ]
  },
  {
   "cell_type": "markdown",
   "execution_count": null,
   "metadata": {},
   "source": [
    "## Set seed"
   ]
  },
  {
   "cell_type": "code",
   "execution_count": 6,
   "metadata": {},
   "outputs": [],
   "source": [
    "SEED = 42\n",
    "\n",
    "os.environ['PYTHONHASHSEED']=str(SEED)\n",
    "random.seed(SEED)\n",
    "np.random.seed(SEED)\n",
    "\n",
    "os.environ['TF_DETERMINISTIC_OPS']=str(SEED)\n",
    "tf.random.set_seed(SEED)\n",
    "# tf.config.threading.set_inter_op_parallelism_threads(1)\n",
    "# tf.config.threading.set_intra_op_parallelism_threads(1)"
   ]
  },
  {
   "cell_type": "markdown",
   "execution_count": null,
   "metadata": {},
   "source": [
    "## TPU or GPU detection"
   ]
  },
  {
   "cell_type": "code",
   "execution_count": 7,
   "metadata": {},
   "outputs": [
    {
     "name": "stdout",
     "output_type": "stream",
     "text": [
      "Running on TPU  grpc://10.0.0.2:8470\n",
      "REPLICAS:  8\n"
     ]
    }
   ],
   "source": [
    "# Detect hardware, return appropriate distribution strategy\n",
    "try:\n",
    "    tpu = tf.distribute.cluster_resolver.TPUClusterResolver()  # TPU detection. No parameters necessary if TPU_NAME environment variable is set. On Kaggle this is always the case.\n",
    "    print('Running on TPU ', tpu.master())\n",
    "except ValueError:\n",
    "    tpu = None\n",
    "\n",
    "if tpu:\n",
    "    tf.config.experimental_connect_to_cluster(tpu)\n",
    "    tf.tpu.experimental.initialize_tpu_system(tpu)\n",
    "    strategy = tf.distribute.experimental.TPUStrategy(tpu)\n",
    "else:\n",
    "    strategy = tf.distribute.get_strategy() # default distribution strategy in Tensorflow. Works on CPU and single GPU.\n",
    "\n",
    "print(\"REPLICAS: \", strategy.num_replicas_in_sync)"
   ]
  },
  {
   "cell_type": "markdown",
   "execution_count": null,
   "metadata": {},
   "source": [
    "# Configuration"
   ]
  },
  {
   "cell_type": "code",
   "execution_count": 8,
   "metadata": {},
   "outputs": [
    {
     "name": "stdout",
     "output_type": "stream",
     "text": [
      "total 24K\r\n",
      "drwxr-xr-x 6 root   root    4.0K Jul  4 07:34 .\r\n",
      "drwxr-xr-x 6 root   root    4.0K Jul  4 07:34 ..\r\n",
      "drwxr-xr-x 4 nobody nogroup 4.0K Jun 24 14:24 shopee-product-detection-student\r\n",
      "drwxr-xr-x 2 nobody nogroup 4.0K Jul  1 11:57 tfrecords\r\n",
      "drwxr-xr-x 2 nobody nogroup 4.0K Jul  1 11:56 tfrecords-2\r\n",
      "drwxr-xr-x 2 nobody nogroup 4.0K Jul  1 11:57 tfrecords-3\r\n"
     ]
    }
   ],
   "source": [
    "!ls -lha /kaggle/input/"
   ]
  },
  {
   "cell_type": "code",
   "execution_count": 9,
   "metadata": {},
   "outputs": [
    {
     "name": "stdout",
     "output_type": "stream",
     "text": [
      "104\n",
      "12\n"
     ]
    }
   ],
   "source": [
    "from kaggle_datasets import KaggleDatasets\n",
    "IMAGE_SIZE = (512, 512)\n",
    "\n",
    "GCS_TRAIN_PATHS = [\n",
    "    KaggleDatasets().get_gcs_path('tfrecords'),\n",
    "    KaggleDatasets().get_gcs_path('tfrecords-2')\n",
    "]\n",
    "TRAINING_FILENAMES = []\n",
    "for i in GCS_TRAIN_PATHS:\n",
    "    TRAINING_FILENAMES.append(tf.io.gfile.glob(i + '/*.tfrecords'))\n",
    "TRAINING_FILENAMES = list(itertools.chain.from_iterable(TRAINING_FILENAMES))\n",
    "\n",
    "GCS_TEST_PATH = KaggleDatasets().get_gcs_path('tfrecords-3')\n",
    "TEST_FILENAMES = tf.io.gfile.glob(GCS_TEST_PATH + '/*.tfrecords') # predictions on this dataset should be submitted for the competition\n",
    "\n",
    "print(len(TRAINING_FILENAMES))\n",
    "print(len(TEST_FILENAMES))"
   ]
  },
  {
   "cell_type": "code",
   "execution_count": 10,
   "metadata": {},
   "outputs": [],
   "source": [
    "EPOCHS = 12\n",
    "DO_AUG = True\n",
    "\n",
    "BATCH_SIZE = 256\n",
    "current_epoch = 0 # used to determine augmentation rate\n",
    "chance = 0\n",
    "\n",
    "NUM_TRAINING_IMAGES = 105390\n",
    "NUM_TEST_IMAGES = 12186\n",
    "STEPS_PER_EPOCH = NUM_TRAINING_IMAGES // BATCH_SIZE"
   ]
  },
  {
   "cell_type": "code",
   "execution_count": 11,
   "metadata": {},
   "outputs": [],
   "source": [
    "CLASSES = [str(c).zfill(2) for c in range(0, 42)]"
   ]
  },
  {
   "cell_type": "markdown",
   "execution_count": null,
   "metadata": {},
   "source": [
    "# TFRecord function"
   ]
  },
  {
   "cell_type": "code",
   "execution_count": 12,
   "metadata": {},
   "outputs": [],
   "source": [
    "def decode_image(image_data):\n",
    "    image = tf.image.decode_jpeg(image_data, channels=3)\n",
    "    image = tf.cast(image, tf.float32) / 255.0  # convert image to floats in [0, 1] range\n",
    "    image = tf.reshape(image, [*IMAGE_SIZE, 3]) # explicit size needed for TPU\n",
    "    return image\n",
    "\n",
    "def read_labeled_tfrecord(example):\n",
    "    LABELED_TFREC_FORMAT = {\n",
    "        \"image\": tf.io.FixedLenFeature([], tf.string), # tf.string means bytestring\n",
    "        \"words\": tf.io.FixedLenFeature([6633], tf.float32),  # shape [] means single element\n",
    "        \"label\": tf.io.FixedLenFeature([], tf.int64),  # shape [] means single element\n",
    "    }\n",
    "    example = tf.io.parse_single_example(example, LABELED_TFREC_FORMAT)\n",
    "    image = decode_image(example['image'])\n",
    "    words = example['words']\n",
    "    label = tf.cast(example['label'], tf.int32)\n",
    "    \n",
    "    return ((image, words), label) # returns a dataset of (image, label) pairs\n",
    "\n",
    "def read_unlabeled_tfrecord(example):\n",
    "    UNLABELED_TFREC_FORMAT = {\n",
    "        \"image\": tf.io.FixedLenFeature([], tf.string), # tf.string means bytestring\n",
    "        \"words\": tf.io.FixedLenFeature([6633], tf.float32),  # shape [] means single element\n",
    "        \"filename\": tf.io.FixedLenFeature([], tf.string),  # shape [] means single element\n",
    "        # class is missing, this competitions's challenge is to predict flower classes for the test dataset\n",
    "    }\n",
    "    example = tf.io.parse_single_example(example, UNLABELED_TFREC_FORMAT)\n",
    "    image = decode_image(example['image'])\n",
    "    words = example['words']\n",
    "    filename = example['filename']\n",
    "    return ((image, words), filename) # returns a dataset of image(s)\n",
    "\n",
    "def load_dataset(filenames, labeled=True, ordered=False):\n",
    "    # Read from TFRecords. For optimal performance, reading from multiple files at once and\n",
    "    # disregarding data order. Order does not matter since we will be shuffling the data anyway.\n",
    "\n",
    "    ignore_order = tf.data.Options()\n",
    "    if not ordered:\n",
    "        ignore_order.experimental_deterministic = False # disable order, increase speed\n",
    "\n",
    "    dataset = tf.data.TFRecordDataset(filenames, num_parallel_reads=AUTO) # automatically interleaves reads from multiple files\n",
    "    dataset = dataset.with_options(ignore_order) # uses data as soon as it streams in, rather than in its original order\n",
    "    dataset = dataset.map(read_labeled_tfrecord if labeled else read_unlabeled_tfrecord, num_parallel_calls=AUTO)\n",
    "    # returns a dataset of (image, label) pairs if labeled=True or (image, id) pairs if labeled=False\n",
    "    return dataset\n",
    "\n",
    "def get_training_dataset(do_aug=True):\n",
    "    dataset = load_dataset(TRAINING_FILENAMES, labeled=True)\n",
    "    if do_aug:\n",
    "        dataset = dataset.map(image_augmentation, num_parallel_calls=AUTO)\n",
    "    dataset = dataset.repeat() # the training dataset must repeat for several epochs\n",
    "    dataset = dataset.shuffle(2048)\n",
    "    dataset = dataset.batch(BATCH_SIZE)\n",
    "    dataset = dataset.prefetch(AUTO) # prefetch next batch while training (autotune prefetch buffer size)\n",
    "    return dataset\n",
    "\n",
    "def get_test_dataset(ordered=False, tta=None):\n",
    "    dataset = load_dataset(TEST_FILENAMES, labeled=False, ordered=ordered)\n",
    "    if tta == 0:\n",
    "        dataset = dataset.map(image_augmentation_tta_0, num_parallel_calls=AUTO)    \n",
    "    elif tta == 1:\n",
    "        dataset = dataset.map(image_augmentation_tta_1, num_parallel_calls=AUTO)\n",
    "    elif tta == 2:\n",
    "        dataset = dataset.map(image_augmentation_tta_2, num_parallel_calls=AUTO)\n",
    "    dataset = dataset.batch(BATCH_SIZE)\n",
    "    dataset = dataset.prefetch(AUTO) # prefetch next batch while training (autotune prefetch buffer size)\n",
    "    return dataset"
   ]
  },
  {
   "cell_type": "markdown",
   "execution_count": null,
   "metadata": {},
   "source": [
    "# Image augmentation functions\n",
    "\n",
    "* Chance of applying image augmentation based on training epoch with this formula\n",
    "* `maxval` for most augmentation is 11\n",
    "\n",
    "$$\n",
    "\\text{chance} =\n",
    "\\begin{cases}\n",
    "    0 & \\text{epoch} < 2 \\\\\n",
    "    epoch - 1 & \\text{epoch} < 9 \\\\\n",
    "    8 & \\text{epoch} \\geq 9\n",
    "\\end{cases}\n",
    "$$\n",
    "\n",
    "$$\n",
    "\\text{chance'} = \\frac{\\text{chance}}{\\text{maxval}}\n",
    "$$\n",
    "\n",
    "\n",
    "\n",
    "| Function   | Sub-chance | Range                                    |\n",
    "| ---------- | ---------- | ---------------------------------------- |\n",
    "| Flip       | -          | Left to right                            |\n",
    "| Brightness | -          | 0.9 to 1.1                               |\n",
    "| Contrast   | -          | 0.9 to 1.1                               |\n",
    "| Saturation | -          | 0.95 to 1.05                             |\n",
    "| Hue        | -          | 0.95 to 1.05                             |\n",
    "| Rotate     | 50%        | 17 degrees * random normal distribution  |\n",
    "| Shear      | 50%        | 5.5 degrees * random normal distribution |\n",
    "| Zoom Out   | 33%        | 1.0 - (random normal distribution / 8.5) |\n",
    "| Shift      | 33%        | 18 pixel * random normal distribution    |\n",
    "| GridMask   | -          | d (square size) : 112 - 352 px           |\n",
    "|            |            | r (keep ratio) : 0.4                     |\n",
    "|            |            | 45 degress * random normal distribution  |"
   ]
  },
  {
   "cell_type": "markdown",
   "execution_count": null,
   "metadata": {},
   "source": [
    "## Rotate, shear, zoom, shift"
   ]
  },
  {
   "cell_type": "code",
   "execution_count": 13,
   "metadata": {},
   "outputs": [],
   "source": [
    "@tf.function\n",
    "def get_mat(rotation, shear, height_zoom, width_zoom, height_shift, width_shift):\n",
    "    # returns 3x3 transformmatrix which transforms indicies\n",
    "        \n",
    "    # CONVERT DEGREES TO RADIANS\n",
    "    rotation = math.pi * rotation / 180.\n",
    "    shear = math.pi * shear / 180.\n",
    "    \n",
    "    # ROTATION MATRIX\n",
    "    c1 = tf.math.cos(rotation)\n",
    "    s1 = tf.math.sin(rotation)\n",
    "    one = tf.constant([1],dtype='float32')\n",
    "    zero = tf.constant([0],dtype='float32')\n",
    "    rotation_matrix = tf.reshape( tf.concat([c1,s1,zero, -s1,c1,zero, zero,zero,one],axis=0),[3,3] )\n",
    "        \n",
    "    # SHEAR MATRIX\n",
    "    c2 = tf.math.cos(shear)\n",
    "    s2 = tf.math.sin(shear)\n",
    "    shear_matrix = tf.reshape( tf.concat([one,s2,zero, zero,c2,zero, zero,zero,one],axis=0),[3,3] )    \n",
    "    \n",
    "    # ZOOM MATRIX\n",
    "    zoom_matrix = tf.reshape( tf.concat([one/height_zoom,zero,zero, zero,one/width_zoom,zero, zero,zero,one],axis=0),[3,3] )\n",
    "    \n",
    "    # SHIFT MATRIX\n",
    "    shift_matrix = tf.reshape( tf.concat([one,zero,height_shift, zero,one,width_shift, zero,zero,one],axis=0),[3,3] )\n",
    "    \n",
    "    return K.dot(K.dot(rotation_matrix, shear_matrix), K.dot(zoom_matrix, shift_matrix))\n",
    "\n",
    "\n",
    "@tf.function\n",
    "def transform(image):\n",
    "    # input image - is one image of size [dim,dim,3] not a batch of [b,dim,dim,3]\n",
    "    # output - image randomly rotated, sheared, zoomed, and shifted\n",
    "    DIM = IMAGE_SIZE[0]\n",
    "    XDIM = DIM%2 #fix for size 331\n",
    "\n",
    "    if tf.random.uniform(shape=[], minval=0, maxval=2, dtype=tf.int32, seed=SEED) == 0: # 50% chance\n",
    "        rot = 17. * tf.random.normal([1],dtype='float32')\n",
    "    else:\n",
    "        rot = tf.constant([0],dtype='float32')\n",
    "    \n",
    "    if tf.random.uniform(shape=[], minval=0, maxval=2, dtype=tf.int32, seed=SEED) == 0: # 50% chance\n",
    "        shr = 5.5 * tf.random.normal([1],dtype='float32') \n",
    "    else:\n",
    "        shr = tf.constant([0],dtype='float32')\n",
    "    \n",
    "    if tf.random.uniform(shape=[], minval=0, maxval=3, dtype=tf.int32, seed=SEED) == 0: # 33% chance\n",
    "        h_zoom = tf.random.normal([1],dtype='float32')/8.5\n",
    "        if h_zoom > 0:\n",
    "            h_zoom = 1.0 + h_zoom * -1\n",
    "        else:\n",
    "            h_zoom = 1.0 + h_zoom\n",
    "    else:\n",
    "        h_zoom = tf.constant([1],dtype='float32')\n",
    "    \n",
    "    if tf.random.uniform(shape=[], minval=0, maxval=3, dtype=tf.int32, seed=SEED) == 0: # 33% chance\n",
    "        w_zoom = tf.random.normal([1],dtype='float32')/8.5\n",
    "        if w_zoom > 0:\n",
    "            w_zoom = 1.0 + w_zoom * -1\n",
    "        else:\n",
    "            w_zoom = 1.0 + w_zoom\n",
    "    else:\n",
    "        w_zoom = tf.constant([1],dtype='float32')\n",
    "    \n",
    "    if tf.random.uniform(shape=[], minval=0, maxval=3, dtype=tf.int32, seed=SEED) == 0: # 33% chance\n",
    "        h_shift = 18. * tf.random.normal([1],dtype='float32') \n",
    "    else:\n",
    "        h_shift = tf.constant([0],dtype='float32')\n",
    "    \n",
    "    if tf.random.uniform(shape=[], minval=0, maxval=3, dtype=tf.int32, seed=SEED) == 0: # 33% chance\n",
    "        w_shift = 18. * tf.random.normal([1],dtype='float32') \n",
    "    else:\n",
    "        w_shift = tf.constant([0],dtype='float32')\n",
    "  \n",
    "    # GET TRANSFORMATION MATRIX\n",
    "    m = get_mat(rot,shr,h_zoom,w_zoom,h_shift,w_shift) \n",
    "\n",
    "    # LIST DESTINATION PIXEL INDICES\n",
    "    x = tf.repeat( tf.range(DIM//2,-DIM//2,-1), DIM )\n",
    "    y = tf.tile( tf.range(-DIM//2,DIM//2),[DIM] )\n",
    "    z = tf.ones([DIM*DIM],dtype='int32')\n",
    "    idx = tf.stack( [x,y,z] )\n",
    "    \n",
    "    # ROTATE DESTINATION PIXELS ONTO ORIGIN PIXELS\n",
    "    idx2 = K.dot(m,tf.cast(idx,dtype='float32'))\n",
    "    idx2 = K.cast(idx2,dtype='int32')\n",
    "    idx2 = K.clip(idx2,-DIM//2+XDIM+1,DIM//2)\n",
    "    \n",
    "    # FIND ORIGIN PIXEL VALUES           \n",
    "    idx3 = tf.stack( [DIM//2-idx2[0,], DIM//2-1+idx2[1,]] )\n",
    "    d = tf.gather_nd(image,tf.transpose(idx3))\n",
    "        \n",
    "    return tf.reshape(d,[DIM,DIM,3])"
   ]
  },
  {
   "cell_type": "markdown",
   "execution_count": null,
   "metadata": {},
   "source": [
    "## GridMask"
   ]
  },
  {
   "cell_type": "code",
   "execution_count": 14,
   "metadata": {},
   "outputs": [],
   "source": [
    "@tf.function\n",
    "def transform_grid_mark(image, inv_mat, image_shape):\n",
    "    h, w, c = image_shape\n",
    "    \n",
    "    cx, cy = w//2, h//2\n",
    "\n",
    "    new_xs = tf.repeat( tf.range(-cx, cx, 1), h)\n",
    "    new_ys = tf.tile( tf.range(-cy, cy, 1), [w])\n",
    "    new_zs = tf.ones([h*w], dtype=tf.int32)\n",
    "\n",
    "    old_coords = tf.matmul(inv_mat, tf.cast(tf.stack([new_xs, new_ys, new_zs]), tf.float32))\n",
    "    old_coords_x, old_coords_y = tf.round(old_coords[0, :] + tf.cast(w, tf.float32)//2.), tf.round(old_coords[1, :] + tf.cast(h, tf.float32)//2.)\n",
    "    old_coords_x = tf.cast(old_coords_x, tf.int32)\n",
    "    old_coords_y = tf.cast(old_coords_y, tf.int32)    \n",
    "\n",
    "    clip_mask_x = tf.logical_or(old_coords_x<0, old_coords_x>w-1)\n",
    "    clip_mask_y = tf.logical_or(old_coords_y<0, old_coords_y>h-1)\n",
    "    clip_mask = tf.logical_or(clip_mask_x, clip_mask_y)\n",
    "\n",
    "    old_coords_x = tf.boolean_mask(old_coords_x, tf.logical_not(clip_mask))\n",
    "    old_coords_y = tf.boolean_mask(old_coords_y, tf.logical_not(clip_mask))\n",
    "    new_coords_x = tf.boolean_mask(new_xs+cx, tf.logical_not(clip_mask))\n",
    "    new_coords_y = tf.boolean_mask(new_ys+cy, tf.logical_not(clip_mask))\n",
    "\n",
    "    old_coords = tf.cast(tf.stack([old_coords_y, old_coords_x]), tf.int32)\n",
    "    new_coords = tf.cast(tf.stack([new_coords_y, new_coords_x]), tf.int64)\n",
    "    rotated_image_values = tf.gather_nd(image, tf.transpose(old_coords))\n",
    "    rotated_image_channel = list()\n",
    "    for i in range(c):\n",
    "        vals = rotated_image_values[:,i]\n",
    "        sparse_channel = tf.SparseTensor(tf.transpose(new_coords), vals, [h, w])\n",
    "        rotated_image_channel.append(tf.sparse.to_dense(sparse_channel, default_value=0, validate_indices=False))\n",
    "\n",
    "    return tf.transpose(tf.stack(rotated_image_channel), [1,2,0])\n",
    "\n",
    "\n",
    "@tf.function\n",
    "def random_rotate(image, angle, image_shape):\n",
    "    def get_rotation_mat_inv(angle):\n",
    "          #transform to radian\n",
    "        angle = math.pi * angle / 180\n",
    "\n",
    "        cos_val = tf.math.cos(angle)\n",
    "        sin_val = tf.math.sin(angle)\n",
    "        one = tf.constant([1], tf.float32)\n",
    "        zero = tf.constant([0], tf.float32)\n",
    "\n",
    "        rot_mat_inv = tf.concat([cos_val, sin_val, zero,\n",
    "                                     -sin_val, cos_val, zero,\n",
    "                                     zero, zero, one], axis=0)\n",
    "        rot_mat_inv = tf.reshape(rot_mat_inv, [3,3])\n",
    "\n",
    "        return rot_mat_inv\n",
    "    angle = float(angle) * tf.random.normal([1],dtype='float32')\n",
    "    rot_mat_inv = get_rotation_mat_inv(angle)\n",
    "    return transform_grid_mark(image, rot_mat_inv, image_shape)\n",
    "\n",
    "\n",
    "@tf.function\n",
    "def grid_mask():\n",
    "    h = tf.constant(IMAGE_SIZE[0], dtype=tf.float32)\n",
    "    w = tf.constant(IMAGE_SIZE[1], dtype=tf.float32)\n",
    "    \n",
    "    image_height, image_width = (h, w)\n",
    "    d1 = 112 # 105\n",
    "    d2 = 352 # 210\n",
    "    rotate_angle = 45\n",
    "    ratio = 0.6 # this is delete ratio, so keep ratio = 1 - delete ratio\n",
    "\n",
    "    hh = tf.math.ceil(tf.math.sqrt(h*h+w*w))\n",
    "    hh = tf.cast(hh, tf.int32)\n",
    "    hh = hh+1 if hh%2==1 else hh\n",
    "    d = tf.random.uniform(shape=[], minval=d1, maxval=d2, dtype=tf.int32)\n",
    "    l = tf.cast(tf.cast(d,tf.float32)*ratio+0.5, tf.int32)\n",
    "\n",
    "    st_h = tf.random.uniform(shape=[], minval=0, maxval=d, dtype=tf.int32)\n",
    "    st_w = tf.random.uniform(shape=[], minval=0, maxval=d, dtype=tf.int32)\n",
    "\n",
    "    y_ranges = tf.range(-1 * d + st_h, -1 * d + st_h + l)\n",
    "    x_ranges = tf.range(-1 * d + st_w, -1 * d + st_w + l)\n",
    "\n",
    "    for i in range(0, hh//d+1):\n",
    "        s1 = i * d + st_h\n",
    "        s2 = i * d + st_w\n",
    "        y_ranges = tf.concat([y_ranges, tf.range(s1,s1+l)], axis=0)\n",
    "        x_ranges = tf.concat([x_ranges, tf.range(s2,s2+l)], axis=0)\n",
    "\n",
    "    x_clip_mask = tf.logical_or(x_ranges <0 , x_ranges > hh-1)\n",
    "    y_clip_mask = tf.logical_or(y_ranges <0 , y_ranges > hh-1)\n",
    "    clip_mask = tf.logical_or(x_clip_mask, y_clip_mask)\n",
    "\n",
    "    x_ranges = tf.boolean_mask(x_ranges, tf.logical_not(clip_mask))\n",
    "    y_ranges = tf.boolean_mask(y_ranges, tf.logical_not(clip_mask))\n",
    "\n",
    "    hh_ranges = tf.tile(tf.range(0,hh), [tf.cast(tf.reduce_sum(tf.ones_like(x_ranges)), tf.int32)])\n",
    "    x_ranges = tf.repeat(x_ranges, hh)\n",
    "    y_ranges = tf.repeat(y_ranges, hh)\n",
    "\n",
    "    y_hh_indices = tf.transpose(tf.stack([y_ranges, hh_ranges]))\n",
    "    x_hh_indices = tf.transpose(tf.stack([hh_ranges, x_ranges]))\n",
    "\n",
    "    y_mask_sparse = tf.SparseTensor(tf.cast(y_hh_indices, tf.int64),  tf.zeros_like(y_ranges), [hh, hh])\n",
    "    y_mask = tf.sparse.to_dense(y_mask_sparse, 1, False)\n",
    "\n",
    "    x_mask_sparse = tf.SparseTensor(tf.cast(x_hh_indices, tf.int64), tf.zeros_like(x_ranges), [hh, hh])\n",
    "    x_mask = tf.sparse.to_dense(x_mask_sparse, 1, False)\n",
    "\n",
    "    mask = tf.expand_dims( tf.clip_by_value(x_mask + y_mask, 0, 1), axis=-1)\n",
    "\n",
    "    mask = random_rotate(mask, rotate_angle, [hh, hh, 1])\n",
    "    mask = tf.image.crop_to_bounding_box(mask, (hh-tf.cast(h, tf.int32))//2, (hh-tf.cast(w, tf.int32))//2, tf.cast(image_height, tf.int32), tf.cast(image_width, tf.int32))\n",
    "\n",
    "    return mask\n",
    "\n",
    "\n",
    "@tf.function\n",
    "def apply_grid_mask(image):\n",
    "    mask = grid_mask()\n",
    "    mask = tf.concat([mask, mask, mask], axis=-1)\n",
    "\n",
    "    return image * tf.cast(mask, 'float32')"
   ]
  },
  {
   "cell_type": "markdown",
   "execution_count": null,
   "metadata": {},
   "source": [
    "## Augmentation function & tf.image functions (flip, brightness, contrast, saturation, hue)"
   ]
  },
  {
   "cell_type": "code",
   "execution_count": 15,
   "metadata": {},
   "outputs": [],
   "source": [
    "# for train\n",
    "\n",
    "@tf.function\n",
    "def image_augmentation(iw, label):\n",
    "    global current_epoch\n",
    "    global chance\n",
    "    \n",
    "    image, words = iw\n",
    "\n",
    "    if tf.random.uniform(shape=[], minval=0, maxval=11, dtype=tf.int32, seed=SEED) < chance:\n",
    "        image = tf.image.flip_left_right(image)\n",
    "    if tf.random.uniform(shape=[], minval=0, maxval=11, dtype=tf.int32, seed=SEED) < chance:\n",
    "        image = tf.image.random_brightness(image, 0.1)\n",
    "    if tf.random.uniform(shape=[], minval=0, maxval=11, dtype=tf.int32, seed=SEED) < chance:\n",
    "        image = tf.image.random_contrast(image, 0.9, 1.1)\n",
    "    if tf.random.uniform(shape=[], minval=0, maxval=11, dtype=tf.int32, seed=SEED) < chance:\n",
    "        image = tf.image.random_saturation(image, 0.95, 1.05)\n",
    "    if tf.random.uniform(shape=[], minval=0, maxval=11, dtype=tf.int32, seed=SEED) < chance:\n",
    "        image = tf.image.random_hue(image, 0.05)\n",
    "\n",
    "    if tf.random.uniform(shape=[], minval=0, maxval=11, dtype=tf.int32, seed=SEED) < chance:\n",
    "        image = transform(image)\n",
    "\n",
    "    if tf.random.uniform(shape=[], minval=0, maxval=10, dtype=tf.int32, seed=SEED) < chance:\n",
    "        image = apply_grid_mask(image)\n",
    "\n",
    "    return ((image, words), label)\n"
   ]
  },
  {
   "cell_type": "code",
   "execution_count": 16,
   "metadata": {},
   "outputs": [],
   "source": [
    "# for test / tta\n",
    "\n",
    "# only flip left to right, brightness & contrast\n",
    "@tf.function\n",
    "def image_augmentation_tta_0(iw, filename):\n",
    "    max_chance = 8\n",
    "    \n",
    "    image, words = iw\n",
    "\n",
    "    if tf.random.uniform(shape=[], minval=0, maxval=11, dtype=tf.int32, seed=SEED) < max_chance:\n",
    "        image = tf.image.flip_left_right(image)\n",
    "    if tf.random.uniform(shape=[], minval=0, maxval=11, dtype=tf.int32, seed=SEED) < max_chance:\n",
    "        image = tf.image.random_brightness(image, 0.1)\n",
    "    if tf.random.uniform(shape=[], minval=0, maxval=11, dtype=tf.int32, seed=SEED) < max_chance:\n",
    "        image = tf.image.random_contrast(image, 0.9, 1.1)\n",
    "\n",
    "    return ((image, words), filename)\n",
    "\n",
    "# all augmentation, except gridmask\n",
    "@tf.function\n",
    "def image_augmentation_tta_1(iw, filename):\n",
    "    max_chance = 8\n",
    "    \n",
    "    image, words = iw\n",
    "\n",
    "    if tf.random.uniform(shape=[], minval=0, maxval=11, dtype=tf.int32, seed=SEED) < max_chance:\n",
    "        image = tf.image.flip_left_right(image)\n",
    "    if tf.random.uniform(shape=[], minval=0, maxval=11, dtype=tf.int32, seed=SEED) < max_chance:\n",
    "        image = tf.image.random_brightness(image, 0.1)\n",
    "    if tf.random.uniform(shape=[], minval=0, maxval=11, dtype=tf.int32, seed=SEED) < max_chance:\n",
    "        image = tf.image.random_contrast(image, 0.9, 1.1)\n",
    "    if tf.random.uniform(shape=[], minval=0, maxval=11, dtype=tf.int32, seed=SEED) < max_chance:\n",
    "        image = tf.image.random_saturation(image, 0.95, 1.05)\n",
    "    if tf.random.uniform(shape=[], minval=0, maxval=11, dtype=tf.int32, seed=SEED) < max_chance:\n",
    "        image = tf.image.random_hue(image, 0.05)\n",
    "\n",
    "    if tf.random.uniform(shape=[], minval=0, maxval=11, dtype=tf.int32, seed=SEED) < max_chance:\n",
    "        image = transform(image)\n",
    "\n",
    "    return ((image, words), filename)\n",
    "\n",
    "# all augmentation\n",
    "@tf.function\n",
    "def image_augmentation_tta_2(iw, filename):\n",
    "    max_chance = 8\n",
    "    \n",
    "    image, words = iw\n",
    "\n",
    "    if tf.random.uniform(shape=[], minval=0, maxval=11, dtype=tf.int32, seed=SEED) < max_chance:\n",
    "        image = tf.image.flip_left_right(image)\n",
    "    if tf.random.uniform(shape=[], minval=0, maxval=11, dtype=tf.int32, seed=SEED) < max_chance:\n",
    "        image = tf.image.random_brightness(image, 0.1)\n",
    "    if tf.random.uniform(shape=[], minval=0, maxval=11, dtype=tf.int32, seed=SEED) < max_chance:\n",
    "        image = tf.image.random_contrast(image, 0.9, 1.1)\n",
    "    if tf.random.uniform(shape=[], minval=0, maxval=11, dtype=tf.int32, seed=SEED) < max_chance:\n",
    "        image = tf.image.random_saturation(image, 0.95, 1.05)\n",
    "    if tf.random.uniform(shape=[], minval=0, maxval=11, dtype=tf.int32, seed=SEED) < max_chance:\n",
    "        image = tf.image.random_hue(image, 0.05)\n",
    "\n",
    "    if tf.random.uniform(shape=[], minval=0, maxval=11, dtype=tf.int32, seed=SEED) < max_chance:\n",
    "        image = transform(image)\n",
    "\n",
    "    if tf.random.uniform(shape=[], minval=0, maxval=10, dtype=tf.int32, seed=SEED) < max_chance:\n",
    "        image = apply_grid_mask(image)\n",
    "\n",
    "    return ((image, words), filename)"
   ]
  },
  {
   "cell_type": "markdown",
   "execution_count": null,
   "metadata": {},
   "source": [
    "## Show augmentated image"
   ]
  },
  {
   "cell_type": "code",
   "execution_count": 17,
   "metadata": {},
   "outputs": [],
   "source": [
    "def show_augmented_image(same_image=True):\n",
    "    row, col = 3, 5\n",
    "    if same_image:\n",
    "        all_elements = get_training_dataset(do_aug=False).unbatch()\n",
    "        one_element = tf.data.Dataset.from_tensors( next(iter(all_elements)) )\n",
    "        augmented_element = one_element.repeat().map(image_augmentation).batch(row*col)\n",
    "        for iw, label in augmented_element:\n",
    "            image, words = iw\n",
    "            plt.figure(figsize=(15,int(15*row/col)))\n",
    "            for j in range(row*col):\n",
    "                plt.subplot(row,col,j+1)\n",
    "                plt.axis('off')\n",
    "                plt.imshow(image[j,])\n",
    "            plt.suptitle(CLASSES[label[0]])\n",
    "            plt.show()\n",
    "            break\n",
    "        \n",
    "        del all_elements\n",
    "        del one_element\n",
    "        del augmented_element\n",
    "    else:\n",
    "        all_elements = get_training_dataset(do_aug=True).unbatch()\n",
    "        augmented_element = all_elements.batch(row*col)\n",
    "\n",
    "        for iw, label in augmented_element:\n",
    "            image, words = iw\n",
    "            plt.figure(figsize=(15,int(15*row/col)))\n",
    "            for j in range(row*col):\n",
    "                plt.subplot(row,col,j+1)\n",
    "                plt.title(CLASSES[label[j]])\n",
    "                plt.axis('off')\n",
    "                plt.imshow(image[j,])\n",
    "            plt.show()\n",
    "            break\n",
    "        \n",
    "        del all_elements\n",
    "        del augmented_element"
   ]
  },
  {
   "cell_type": "code",
   "execution_count": 18,
   "metadata": {},
   "outputs": [],
   "source": [
    "# run this cell again to see different image\n",
    "# chance = 8\n",
    "# show_augmented_image()\n",
    "# chance = 0"
   ]
  },
  {
   "cell_type": "code",
   "execution_count": 19,
   "metadata": {},
   "outputs": [],
   "source": [
    "# run this cell again to see different batch of image\n",
    "# chance = 8\n",
    "# show_augmented_image(same_image=False)\n",
    "# chance = 0"
   ]
  },
  {
   "cell_type": "markdown",
   "execution_count": null,
   "metadata": {},
   "source": [
    "# Model function"
   ]
  },
  {
   "cell_type": "code",
   "execution_count": 20,
   "metadata": {},
   "outputs": [],
   "source": [
    "from tensorflow.keras.models import Model, Sequential\n",
    "from tensorflow.keras.layers import Input, Flatten, Dense, Dropout, AveragePooling2D, GlobalAveragePooling2D, SpatialDropout2D, BatchNormalization, Activation, Concatenate"
   ]
  },
  {
   "cell_type": "code",
   "execution_count": 21,
   "metadata": {},
   "outputs": [],
   "source": [
    "def plt_lr(epoch_count):\n",
    "    if epoch_count > 50:\n",
    "        epoch_count = 50\n",
    "    \n",
    "    rng = [i for i in range(epoch_count)]\n",
    "\n",
    "    plt.figure()\n",
    "    y = [lrfn(x) for x in rng]\n",
    "    plt.title(f'Learning rate schedule: {y[0]} to {y[epoch_count-1]}')\n",
    "    plt.plot(rng, y)\n",
    "\n",
    "def plt_acc(h):\n",
    "    plt.figure()\n",
    "    plt.plot(h.history[\"sparse_categorical_accuracy\"])\n",
    "    if 'val_sparse_categorical_accuracy' in h.history:\n",
    "        plt.plot(h.history[\"val_sparse_categorical_accuracy\"]) \n",
    "        plt.legend([\"training\",\"validation\"])       \n",
    "    else:\n",
    "        plt.legend([\"training\"])\n",
    "    plt.xlabel(\"epoch\")\n",
    "    plt.title(\"Sparse Categorical Accuracy\")\n",
    "    plt.show()\n",
    "\n",
    "def plt_loss(h):\n",
    "    plt.figure()\n",
    "    plt.plot(h.history[\"loss\"])\n",
    "    if 'val_loss' in h.history:\n",
    "        plt.plot(h.history[\"val_loss\"]) \n",
    "        plt.legend([\"training\",\"validation\"])       \n",
    "    else:\n",
    "        plt.legend([\"training\"])\n",
    "    plt.legend([\"training\",\"validation\"])\n",
    "    plt.xlabel(\"epoch\")\n",
    "    plt.title(\"Loss\")\n",
    "    plt.show()"
   ]
  },
  {
   "cell_type": "code",
   "execution_count": 22,
   "metadata": {},
   "outputs": [],
   "source": [
    "class EpochCallback(tf.keras.callbacks.Callback):  \n",
    "    def on_epoch_begin(self, epoch, logs=None):\n",
    "        global current_epoch\n",
    "        global chance\n",
    "\n",
    "        current_epoch = epoch       \n",
    "        if current_epoch < 2:\n",
    "            chance = 0\n",
    "        elif current_epoch < 9:\n",
    "            chance = current_epoch - 1 # possible chance between 1 to 7\n",
    "        else:\n",
    "            chance = 8\n",
    "        print(f'Epoch #{current_epoch}')\n",
    "        print(datetime.now())"
   ]
  },
  {
   "cell_type": "code",
   "execution_count": 23,
   "metadata": {},
   "outputs": [],
   "source": [
    "es_val_acc = tf.keras.callbacks.EarlyStopping(\n",
    "    monitor='val_sparse_categorical_accuracy', min_delta=0.001, patience=5, verbose=1, mode='auto',\n",
    "    baseline=None, restore_best_weights=True\n",
    ")\n",
    "\n",
    "es_val_loss = tf.keras.callbacks.EarlyStopping(\n",
    "    monitor='val_loss', min_delta=0.001, patience=5, verbose=1, mode='auto',\n",
    "    baseline=None, restore_best_weights=True\n",
    ")\n",
    "\n",
    "es_acc = tf.keras.callbacks.EarlyStopping(\n",
    "    monitor='sparse_categorical_accuracy', min_delta=0.001, patience=5, verbose=1, mode='auto',\n",
    "    baseline=None, restore_best_weights=False\n",
    ")\n",
    "\n",
    "es_loss = tf.keras.callbacks.EarlyStopping(\n",
    "    monitor='loss', min_delta=0.001, patience=5, verbose=1, mode='auto',\n",
    "    baseline=None, restore_best_weights=False\n",
    ")\n",
    "\n",
    "epoch_cb = EpochCallback()"
   ]
  },
  {
   "cell_type": "markdown",
   "execution_count": null,
   "metadata": {},
   "source": [
    "# Create model"
   ]
  },
  {
   "cell_type": "code",
   "execution_count": 24,
   "metadata": {},
   "outputs": [
    {
     "name": "stdout",
     "output_type": "stream",
     "text": [
      "Downloading data from https://github.com/qubvel/efficientnet/releases/download/v0.0.1/efficientnet-b7_noisy-student_notop.h5\n",
      "258072576/258068648 [==============================] - 3s 0us/step\n",
      "Model: \"model\"\n",
      "__________________________________________________________________________________________________\n",
      "Layer (type)                    Output Shape         Param #     Connected to                     \n",
      "==================================================================================================\n",
      "mlp-words_input (InputLayer)    [(None, 6633)]       0                                            \n",
      "__________________________________________________________________________________________________\n",
      "mlp-words_dense_1 (Dense)       (None, 331)          2195854     mlp-words_input[0][0]            \n",
      "__________________________________________________________________________________________________\n",
      "mlp-words_bn_1 (BatchNormalizat (None, 331)          1324        mlp-words_dense_1[0][0]          \n",
      "__________________________________________________________________________________________________\n",
      "mlp-words_act_1 (Activation)    (None, 331)          0           mlp-words_bn_1[0][0]             \n",
      "__________________________________________________________________________________________________\n",
      "efficientnet-b7_input (InputLay [(None, 512, 512, 3) 0                                            \n",
      "__________________________________________________________________________________________________\n",
      "mlp-words_dense_2 (Dense)       (None, 110)          36520       mlp-words_act_1[0][0]            \n",
      "__________________________________________________________________________________________________\n",
      "efficientnet-b7 (Model)         (None, 16, 16, 2560) 64097680    efficientnet-b7_input[0][0]      \n",
      "__________________________________________________________________________________________________\n",
      "mlp-words_bn_2 (BatchNormalizat (None, 110)          440         mlp-words_dense_2[0][0]          \n",
      "__________________________________________________________________________________________________\n",
      "efficientnet-b7_gap (GlobalAver (None, 2560)         0           efficientnet-b7[1][0]            \n",
      "__________________________________________________________________________________________________\n",
      "mlp-words_act_2 (Activation)    (None, 110)          0           mlp-words_bn_2[0][0]             \n",
      "__________________________________________________________________________________________________\n",
      "concatenate (Concatenate)       (None, 2670)         0           efficientnet-b7_gap[0][0]        \n",
      "                                                                 mlp-words_act_2[0][0]            \n",
      "__________________________________________________________________________________________________\n",
      "output (Dense)                  (None, 42)           112182      concatenate[0][0]                \n",
      "==================================================================================================\n",
      "Total params: 66,444,000\n",
      "Trainable params: 66,132,398\n",
      "Non-trainable params: 311,602\n",
      "__________________________________________________________________________________________________\n"
     ]
    }
   ],
   "source": [
    "with strategy.scope():\n",
    "    # phase 1\n",
    "    efn7 = efn.EfficientNetB7(weights='noisy-student', include_top=False, input_shape=(IMAGE_SIZE[0], IMAGE_SIZE[1], 3))\n",
    "    for layer in efn7.layers:\n",
    "        layer.trainable = True\n",
    "\n",
    "    model_image = Sequential([\n",
    "        efn7,\n",
    "        GlobalAveragePooling2D(name='efficientnet-b7_gap'),\n",
    "    ], name='b7-image')\n",
    "\n",
    "    model_words = Sequential([\n",
    "        Input((6633, ), name='mlp-words_input'),\n",
    "\n",
    "        Dense(331, name='mlp-words_dense_1'),\n",
    "        BatchNormalization(name='mlp-words_bn_1'),\n",
    "        Activation('relu', name='mlp-words_act_1'),\n",
    "\n",
    "        Dense(110, name='mlp-words_dense_2'),\n",
    "        BatchNormalization(name='mlp-words_bn_2'),\n",
    "        Activation('relu', name='mlp-words_act_2'),\n",
    "    ], name='mlp-words')\n",
    "    concatenate = Concatenate(name='concatenate')([model_image.output, model_words.output])\n",
    "    output = Dense(len(CLASSES), activation='softmax', name='output')(concatenate)\n",
    "\n",
    "    model = Model(inputs=[model_image.input, model_words.input], outputs=output)\n",
    "\n",
    "    # phase 2\n",
    "#     model = tf.keras.models.load_model('/kaggle/input/train-phase-1-085009/model.h5')\n",
    "#     model.load_weights('/kaggle/input/train-phase-1-085009/model_weights.h5')\n",
    "\n",
    "    model.compile(optimizer=tfa.optimizers.LAMB(0.01), loss='sparse_categorical_crossentropy', metrics=['sparse_categorical_accuracy'])\n",
    "\n",
    "model.summary()\n",
    "\n"
   ]
  },
  {
   "cell_type": "code",
   "execution_count": 25,
   "metadata": {},
   "outputs": [
    {
     "name": "stdout",
     "output_type": "stream",
     "text": [
      "Pre training time : 103.180323 seconds\n"
     ]
    }
   ],
   "source": [
    "print(f'Pre training time : {(datetime.now() - PRE_TRAINING_TIME_START).total_seconds()} seconds')"
   ]
  },
  {
   "cell_type": "markdown",
   "execution_count": null,
   "metadata": {},
   "source": [
    "# Train model"
   ]
  },
  {
   "cell_type": "code",
   "execution_count": 26,
   "metadata": {},
   "outputs": [
    {
     "data": {
      "image/png": "[encoded data removed]",
      "text/plain": [
       "<Figure size 432x288 with 1 Axes>"
      ]
     },
     "metadata": {
      "needs_background": "light"
     },
     "output_type": "display_data"
    }
   ],
   "source": [
    "LR_START = 0.0005\n",
    "LR_MAX = 0.001\n",
    "LR_MIN = 0.00015\n",
    "LR_RAMPUP_EPOCHS = 2\n",
    "LR_SUSTAIN_EPOCHS = 0\n",
    "LR_EXP_DECAY = 0.83\n",
    "\n",
    "def lrfn(epoch):\n",
    "    if epoch < LR_RAMPUP_EPOCHS:\n",
    "        lr = (LR_MAX - LR_START) / LR_RAMPUP_EPOCHS * epoch + LR_START\n",
    "    elif epoch < LR_RAMPUP_EPOCHS + LR_SUSTAIN_EPOCHS:\n",
    "        lr = LR_MAX\n",
    "    else:\n",
    "        lr = (LR_MAX - LR_MIN) * LR_EXP_DECAY**(epoch - LR_RAMPUP_EPOCHS - LR_SUSTAIN_EPOCHS) + LR_MIN\n",
    "    return lr\n",
    "lr_schedule = tf.keras.callbacks.LearningRateScheduler(lrfn, verbose = True)\n",
    "\n",
    "plt_lr(EPOCHS)"
   ]
  },
  {
   "cell_type": "code",
   "execution_count": 27,
   "metadata": {},
   "outputs": [
    {
     "name": "stdout",
     "output_type": "stream",
     "text": [
      "Epoch #0\n",
      "2020-07-04 07:36:26.339532\n",
      "\n",
      "Epoch 00001: LearningRateScheduler reducing learning rate to 0.0005.\n",
      "Epoch 1/12\n",
      "411/411 [==============================] - 768s 2s/step - loss: 1.4918 - sparse_categorical_accuracy: 0.6371 - lr: 5.0000e-04\n",
      "Epoch #1\n",
      "2020-07-04 07:55:38.701107\n",
      "\n",
      "Epoch 00002: LearningRateScheduler reducing learning rate to 0.00075.\n",
      "Epoch 2/12\n",
      "411/411 [==============================] - 769s 2s/step - loss: 0.7336 - sparse_categorical_accuracy: 0.7991 - lr: 7.5000e-04\n",
      "Epoch #2\n",
      "2020-07-04 08:08:29.905076\n",
      "\n",
      "Epoch 00003: LearningRateScheduler reducing learning rate to 0.001.\n",
      "Epoch 3/12\n",
      "411/411 [==============================] - 768s 2s/step - loss: 0.5952 - sparse_categorical_accuracy: 0.8340 - lr: 0.0010\n",
      "Epoch #3\n",
      "2020-07-04 08:21:20.059565\n",
      "\n",
      "Epoch 00004: LearningRateScheduler reducing learning rate to 0.0008554999999999999.\n",
      "Epoch 4/12\n",
      "411/411 [==============================] - 767s 2s/step - loss: 0.4441 - sparse_categorical_accuracy: 0.8721 - lr: 8.5550e-04\n",
      "Epoch #4\n",
      "2020-07-04 08:34:08.766752\n",
      "\n",
      "Epoch 00005: LearningRateScheduler reducing learning rate to 0.000735565.\n",
      "Epoch 5/12\n",
      "411/411 [==============================] - 769s 2s/step - loss: 0.3277 - sparse_categorical_accuracy: 0.9027 - lr: 7.3556e-04\n",
      "Epoch #5\n",
      "2020-07-04 08:46:59.476429\n",
      "\n",
      "Epoch 00006: LearningRateScheduler reducing learning rate to 0.0006360189499999999.\n",
      "Epoch 6/12\n",
      "411/411 [==============================] - 769s 2s/step - loss: 0.2437 - sparse_categorical_accuracy: 0.9253 - lr: 6.3602e-04\n",
      "Epoch #6\n",
      "2020-07-04 08:59:50.461033\n",
      "\n",
      "Epoch 00007: LearningRateScheduler reducing learning rate to 0.0005533957284999999.\n",
      "Epoch 7/12\n",
      "411/411 [==============================] - 769s 2s/step - loss: 0.1829 - sparse_categorical_accuracy: 0.9422 - lr: 5.5340e-04\n",
      "Epoch #7\n",
      "2020-07-04 09:12:40.931356\n",
      "\n",
      "Epoch 00008: LearningRateScheduler reducing learning rate to 0.000484818454655.\n",
      "Epoch 8/12\n",
      "411/411 [==============================] - 770s 2s/step - loss: 0.1404 - sparse_categorical_accuracy: 0.9547 - lr: 4.8482e-04\n",
      "Epoch #8\n",
      "2020-07-04 09:25:32.351368\n",
      "\n",
      "Epoch 00009: LearningRateScheduler reducing learning rate to 0.00042789931736364993.\n",
      "Epoch 9/12\n",
      "411/411 [==============================] - 770s 2s/step - loss: 0.1078 - sparse_categorical_accuracy: 0.9643 - lr: 4.2790e-04\n",
      "Epoch #9\n",
      "2020-07-04 09:38:23.784520\n",
      "\n",
      "Epoch 00010: LearningRateScheduler reducing learning rate to 0.0003806564334118294.\n",
      "Epoch 10/12\n",
      "411/411 [==============================] - 769s 2s/step - loss: 0.0848 - sparse_categorical_accuracy: 0.9722 - lr: 3.8066e-04\n",
      "Epoch #10\n",
      "2020-07-04 09:51:15.105931\n",
      "\n",
      "Epoch 00011: LearningRateScheduler reducing learning rate to 0.0003414448397318184.\n",
      "Epoch 11/12\n",
      "411/411 [==============================] - 770s 2s/step - loss: 0.0681 - sparse_categorical_accuracy: 0.9786 - lr: 3.4144e-04\n",
      "Epoch #11\n",
      "2020-07-04 10:04:06.849536\n",
      "\n",
      "Epoch 00012: LearningRateScheduler reducing learning rate to 0.0003088992169774093.\n",
      "Epoch 12/12\n",
      "411/411 [==============================] - 768s 2s/step - loss: 0.0547 - sparse_categorical_accuracy: 0.9826 - lr: 3.0890e-04\n"
     ]
    },
    {
     "data": {
      "text/plain": [
       "<tensorflow.python.keras.callbacks.History at 0x7f7fca4d1c10>"
      ]
     },
     "execution_count": 27,
     "metadata": {},
     "output_type": "execute_result"
    }
   ],
   "source": [
    "model.fit(\n",
    "    get_training_dataset(do_aug=DO_AUG), steps_per_epoch=STEPS_PER_EPOCH,\n",
    "    epochs=EPOCHS,\n",
    "    callbacks=[es_acc, epoch_cb, lr_schedule], verbose=1\n",
    ")"
   ]
  },
  {
   "cell_type": "code",
   "execution_count": 28,
   "metadata": {},
   "outputs": [
    {
     "data": {
      "image/png": "[encoded data removed]",
      "text/plain": [
       "<Figure size 432x288 with 1 Axes>"
      ]
     },
     "metadata": {
      "needs_background": "light"
     },
     "output_type": "display_data"
    },
    {
     "data": {
      "image/png": "[encoded data removed]",
      "text/plain": [
       "<Figure size 432x288 with 1 Axes>"
      ]
     },
     "metadata": {
      "needs_background": "light"
     },
     "output_type": "display_data"
    }
   ],
   "source": [
    "h = model.history\n",
    "plt_acc(h)\n",
    "plt_loss(h)"
   ]
  },
  {
   "cell_type": "code",
   "execution_count": 29,
   "metadata": {},
   "outputs": [],
   "source": [
    "POST_TRAINING_TIME_START = datetime.now()"
   ]
  },
  {
   "cell_type": "markdown",
   "execution_count": null,
   "metadata": {},
   "source": [
    "# Submit Result"
   ]
  },
  {
   "cell_type": "code",
   "execution_count": 30,
   "metadata": {},
   "outputs": [],
   "source": [
    "def test(tta=None):\n",
    "    test_ds = get_test_dataset(ordered=True, tta=tta) # since we are splitting the dataset and iterating separately on images and ids, order matters.\n",
    "\n",
    "    print(f'Computing predictions for TTA {tta}...')\n",
    "    test_images_ds = test_ds.map(lambda iw, filename: [iw])\n",
    "    model_pred = model.predict(test_images_ds)\n",
    "\n",
    "    return model_pred"
   ]
  },
  {
   "cell_type": "code",
   "execution_count": 31,
   "metadata": {},
   "outputs": [
    {
     "name": "stdout",
     "output_type": "stream",
     "text": [
      "Computing predictions for TTA None...\n",
      "Computing predictions for TTA 0...\n",
      "Computing predictions for TTA 1...\n",
      "Computing predictions for TTA 2...\n"
     ]
    }
   ],
   "source": [
    "model_pred = test(tta=None)\n",
    "model_pred_tta_0 = test(tta=0)\n",
    "model_pred_tta_1 = test(tta=1)\n",
    "model_pred_tta_2 = test(tta=2)"
   ]
  },
  {
   "cell_type": "markdown",
   "execution_count": null,
   "metadata": {},
   "source": [
    "## No TTA"
   ]
  },
  {
   "cell_type": "code",
   "execution_count": 32,
   "metadata": {},
   "outputs": [
    {
     "data": {
      "text/html": [
       "<div>\n",
       "<style scoped>\n",
       "    .dataframe tbody tr th:only-of-type {\n",
       "        vertical-align: middle;\n",
       "    }\n",
       "\n",
       "    .dataframe tbody tr th {\n",
       "        vertical-align: top;\n",
       "    }\n",
       "\n",
       "    .dataframe thead th {\n",
       "        text-align: right;\n",
       "    }\n",
       "</style>\n",
       "<table border=\"1\" class=\"dataframe\">\n",
       "  <thead>\n",
       "    <tr style=\"text-align: right;\">\n",
       "      <th></th>\n",
       "      <th>filename</th>\n",
       "      <th>category</th>\n",
       "    </tr>\n",
       "  </thead>\n",
       "  <tbody>\n",
       "    <tr>\n",
       "      <th>0</th>\n",
       "      <td>fd663cf2b6e1d7b02938c6aaae0a32d2.jpg</td>\n",
       "      <td>20</td>\n",
       "    </tr>\n",
       "    <tr>\n",
       "      <th>1</th>\n",
       "      <td>cce40cdfd9ef53882386d319d3179696.jpg</td>\n",
       "      <td>04</td>\n",
       "    </tr>\n",
       "    <tr>\n",
       "      <th>2</th>\n",
       "      <td>5989e05d9f73748f938a6da6b9d5fd7c.jpg</td>\n",
       "      <td>10</td>\n",
       "    </tr>\n",
       "    <tr>\n",
       "      <th>3</th>\n",
       "      <td>0c95bf0651bd02f7a5a193b9f430ed52.jpg</td>\n",
       "      <td>33</td>\n",
       "    </tr>\n",
       "    <tr>\n",
       "      <th>4</th>\n",
       "      <td>eaa93b6461bfa7868273b759b9e3c125.jpg</td>\n",
       "      <td>23</td>\n",
       "    </tr>\n",
       "    <tr>\n",
       "      <th>...</th>\n",
       "      <td>...</td>\n",
       "      <td>...</td>\n",
       "    </tr>\n",
       "    <tr>\n",
       "      <th>12181</th>\n",
       "      <td>3feb40ea8c99f2b0c3d6a1bcaca7f8cf.jpg</td>\n",
       "      <td>18</td>\n",
       "    </tr>\n",
       "    <tr>\n",
       "      <th>12182</th>\n",
       "      <td>ceb6db5d91b0e0934f25b9a97a0b0d4e.jpg</td>\n",
       "      <td>37</td>\n",
       "    </tr>\n",
       "    <tr>\n",
       "      <th>12183</th>\n",
       "      <td>18cbecd37fa0eb34743070354edd01f8.jpg</td>\n",
       "      <td>34</td>\n",
       "    </tr>\n",
       "    <tr>\n",
       "      <th>12184</th>\n",
       "      <td>f9d85e33f40d1702ec514e5e82cd3f6c.jpg</td>\n",
       "      <td>40</td>\n",
       "    </tr>\n",
       "    <tr>\n",
       "      <th>12185</th>\n",
       "      <td>f614e1799f92933b16d69a39d0aa9cc5.jpg</td>\n",
       "      <td>05</td>\n",
       "    </tr>\n",
       "  </tbody>\n",
       "</table>\n",
       "<p>12186 rows × 2 columns</p>\n",
       "</div>"
      ],
      "text/plain": [
       "                                   filename category\n",
       "0      fd663cf2b6e1d7b02938c6aaae0a32d2.jpg       20\n",
       "1      cce40cdfd9ef53882386d319d3179696.jpg       04\n",
       "2      5989e05d9f73748f938a6da6b9d5fd7c.jpg       10\n",
       "3      0c95bf0651bd02f7a5a193b9f430ed52.jpg       33\n",
       "4      eaa93b6461bfa7868273b759b9e3c125.jpg       23\n",
       "...                                     ...      ...\n",
       "12181  3feb40ea8c99f2b0c3d6a1bcaca7f8cf.jpg       18\n",
       "12182  ceb6db5d91b0e0934f25b9a97a0b0d4e.jpg       37\n",
       "12183  18cbecd37fa0eb34743070354edd01f8.jpg       34\n",
       "12184  f9d85e33f40d1702ec514e5e82cd3f6c.jpg       40\n",
       "12185  f614e1799f92933b16d69a39d0aa9cc5.jpg       05\n",
       "\n",
       "[12186 rows x 2 columns]"
      ]
     },
     "execution_count": 32,
     "metadata": {},
     "output_type": "execute_result"
    }
   ],
   "source": [
    "pred_plain = np.argmax(model_pred, axis=-1)\n",
    "\n",
    "test_ds = get_test_dataset(ordered=True) # since we are splitting the dataset and iterating separately on images and ids, order matters.\n",
    "\n",
    "test_ids_ds = test_ds.map(lambda iw, filename: filename).unbatch()\n",
    "test_ids = next(iter(test_ids_ds.batch(pred_plain.shape[0]))).numpy().astype('U') # all in one batch\n",
    "\n",
    "df_submission = pd.DataFrame({'filename': test_ids, 'category': pred_plain})\n",
    "df_submission = df_submission.drop_duplicates()\n",
    "df_submission['category'] = df_submission['category'].apply(lambda c: str(c).zfill(2))\n",
    "df_submission"
   ]
  },
  {
   "cell_type": "code",
   "execution_count": 33,
   "metadata": {},
   "outputs": [
    {
     "name": "stdout",
     "output_type": "stream",
     "text": [
      "filename,category\r\n",
      "fd663cf2b6e1d7b02938c6aaae0a32d2.jpg,20\r\n",
      "cce40cdfd9ef53882386d319d3179696.jpg,04\r\n",
      "5989e05d9f73748f938a6da6b9d5fd7c.jpg,10\r\n",
      "0c95bf0651bd02f7a5a193b9f430ed52.jpg,33\r\n",
      "eaa93b6461bfa7868273b759b9e3c125.jpg,23\r\n",
      "3d7b10a9f6d55bbd14a72d803aec2ce4.jpg,05\r\n",
      "24fb326378e62fa541ee7f0f3d329afa.jpg,28\r\n",
      "a76a602031927190740b582ee87d3bf8.jpg,07\r\n",
      "cf5441e526c9db16787de0277938be76.jpg,39\r\n"
     ]
    }
   ],
   "source": [
    "df_submission.to_csv('submission.csv', index=False)\n",
    "!head submission.csv"
   ]
  },
  {
   "cell_type": "markdown",
   "execution_count": null,
   "metadata": {},
   "source": [
    "## No TTA + TTA type 0"
   ]
  },
  {
   "cell_type": "code",
   "execution_count": 34,
   "metadata": {},
   "outputs": [
    {
     "data": {
      "text/html": [
       "<div>\n",
       "<style scoped>\n",
       "    .dataframe tbody tr th:only-of-type {\n",
       "        vertical-align: middle;\n",
       "    }\n",
       "\n",
       "    .dataframe tbody tr th {\n",
       "        vertical-align: top;\n",
       "    }\n",
       "\n",
       "    .dataframe thead th {\n",
       "        text-align: right;\n",
       "    }\n",
       "</style>\n",
       "<table border=\"1\" class=\"dataframe\">\n",
       "  <thead>\n",
       "    <tr style=\"text-align: right;\">\n",
       "      <th></th>\n",
       "      <th>filename</th>\n",
       "      <th>category</th>\n",
       "    </tr>\n",
       "  </thead>\n",
       "  <tbody>\n",
       "    <tr>\n",
       "      <th>0</th>\n",
       "      <td>fd663cf2b6e1d7b02938c6aaae0a32d2.jpg</td>\n",
       "      <td>20</td>\n",
       "    </tr>\n",
       "    <tr>\n",
       "      <th>1</th>\n",
       "      <td>cce40cdfd9ef53882386d319d3179696.jpg</td>\n",
       "      <td>04</td>\n",
       "    </tr>\n",
       "    <tr>\n",
       "      <th>2</th>\n",
       "      <td>5989e05d9f73748f938a6da6b9d5fd7c.jpg</td>\n",
       "      <td>10</td>\n",
       "    </tr>\n",
       "    <tr>\n",
       "      <th>3</th>\n",
       "      <td>0c95bf0651bd02f7a5a193b9f430ed52.jpg</td>\n",
       "      <td>33</td>\n",
       "    </tr>\n",
       "    <tr>\n",
       "      <th>4</th>\n",
       "      <td>eaa93b6461bfa7868273b759b9e3c125.jpg</td>\n",
       "      <td>23</td>\n",
       "    </tr>\n",
       "    <tr>\n",
       "      <th>...</th>\n",
       "      <td>...</td>\n",
       "      <td>...</td>\n",
       "    </tr>\n",
       "    <tr>\n",
       "      <th>12181</th>\n",
       "      <td>3feb40ea8c99f2b0c3d6a1bcaca7f8cf.jpg</td>\n",
       "      <td>18</td>\n",
       "    </tr>\n",
       "    <tr>\n",
       "      <th>12182</th>\n",
       "      <td>ceb6db5d91b0e0934f25b9a97a0b0d4e.jpg</td>\n",
       "      <td>37</td>\n",
       "    </tr>\n",
       "    <tr>\n",
       "      <th>12183</th>\n",
       "      <td>18cbecd37fa0eb34743070354edd01f8.jpg</td>\n",
       "      <td>34</td>\n",
       "    </tr>\n",
       "    <tr>\n",
       "      <th>12184</th>\n",
       "      <td>f9d85e33f40d1702ec514e5e82cd3f6c.jpg</td>\n",
       "      <td>40</td>\n",
       "    </tr>\n",
       "    <tr>\n",
       "      <th>12185</th>\n",
       "      <td>f614e1799f92933b16d69a39d0aa9cc5.jpg</td>\n",
       "      <td>05</td>\n",
       "    </tr>\n",
       "  </tbody>\n",
       "</table>\n",
       "<p>12186 rows × 2 columns</p>\n",
       "</div>"
      ],
      "text/plain": [
       "                                   filename category\n",
       "0      fd663cf2b6e1d7b02938c6aaae0a32d2.jpg       20\n",
       "1      cce40cdfd9ef53882386d319d3179696.jpg       04\n",
       "2      5989e05d9f73748f938a6da6b9d5fd7c.jpg       10\n",
       "3      0c95bf0651bd02f7a5a193b9f430ed52.jpg       33\n",
       "4      eaa93b6461bfa7868273b759b9e3c125.jpg       23\n",
       "...                                     ...      ...\n",
       "12181  3feb40ea8c99f2b0c3d6a1bcaca7f8cf.jpg       18\n",
       "12182  ceb6db5d91b0e0934f25b9a97a0b0d4e.jpg       37\n",
       "12183  18cbecd37fa0eb34743070354edd01f8.jpg       34\n",
       "12184  f9d85e33f40d1702ec514e5e82cd3f6c.jpg       40\n",
       "12185  f614e1799f92933b16d69a39d0aa9cc5.jpg       05\n",
       "\n",
       "[12186 rows x 2 columns]"
      ]
     },
     "execution_count": 34,
     "metadata": {},
     "output_type": "execute_result"
    }
   ],
   "source": [
    "pred_tta_0 = np.mean(np.array([model_pred, model_pred_tta_0]), axis=0)\n",
    "pred_tta_0 = np.argmax(pred_tta_0, axis=-1)\n",
    "\n",
    "test_ds = get_test_dataset(ordered=True) # since we are splitting the dataset and iterating separately on images and ids, order matters.\n",
    "\n",
    "test_ids_ds = test_ds.map(lambda iw, filename: filename).unbatch()\n",
    "test_ids = next(iter(test_ids_ds.batch(pred_tta_0.shape[0]))).numpy().astype('U') # all in one batch\n",
    "\n",
    "df_submission_tta_0 = pd.DataFrame({'filename': test_ids, 'category': pred_tta_0})\n",
    "df_submission_tta_0 = df_submission_tta_0.drop_duplicates()\n",
    "df_submission_tta_0['category'] = df_submission_tta_0['category'].apply(lambda c: str(c).zfill(2))\n",
    "df_submission_tta_0"
   ]
  },
  {
   "cell_type": "code",
   "execution_count": 35,
   "metadata": {},
   "outputs": [
    {
     "name": "stdout",
     "output_type": "stream",
     "text": [
      "filename,category\r\n",
      "fd663cf2b6e1d7b02938c6aaae0a32d2.jpg,20\r\n",
      "cce40cdfd9ef53882386d319d3179696.jpg,04\r\n",
      "5989e05d9f73748f938a6da6b9d5fd7c.jpg,10\r\n",
      "0c95bf0651bd02f7a5a193b9f430ed52.jpg,33\r\n",
      "eaa93b6461bfa7868273b759b9e3c125.jpg,23\r\n",
      "3d7b10a9f6d55bbd14a72d803aec2ce4.jpg,05\r\n",
      "24fb326378e62fa541ee7f0f3d329afa.jpg,28\r\n",
      "a76a602031927190740b582ee87d3bf8.jpg,07\r\n",
      "cf5441e526c9db16787de0277938be76.jpg,39\r\n"
     ]
    }
   ],
   "source": [
    "df_submission_tta_0.to_csv('submission_tta_0.csv', index=False)\n",
    "!head submission_tta_0.csv"
   ]
  },
  {
   "cell_type": "markdown",
   "execution_count": null,
   "metadata": {},
   "source": [
    "## No TTA + TTA type 0 + TTA type 1 + TTA type 2"
   ]
  },
  {
   "cell_type": "code",
   "execution_count": 36,
   "metadata": {},
   "outputs": [
    {
     "data": {
      "text/html": [
       "<div>\n",
       "<style scoped>\n",
       "    .dataframe tbody tr th:only-of-type {\n",
       "        vertical-align: middle;\n",
       "    }\n",
       "\n",
       "    .dataframe tbody tr th {\n",
       "        vertical-align: top;\n",
       "    }\n",
       "\n",
       "    .dataframe thead th {\n",
       "        text-align: right;\n",
       "    }\n",
       "</style>\n",
       "<table border=\"1\" class=\"dataframe\">\n",
       "  <thead>\n",
       "    <tr style=\"text-align: right;\">\n",
       "      <th></th>\n",
       "      <th>filename</th>\n",
       "      <th>category</th>\n",
       "    </tr>\n",
       "  </thead>\n",
       "  <tbody>\n",
       "    <tr>\n",
       "      <th>0</th>\n",
       "      <td>fd663cf2b6e1d7b02938c6aaae0a32d2.jpg</td>\n",
       "      <td>20</td>\n",
       "    </tr>\n",
       "    <tr>\n",
       "      <th>1</th>\n",
       "      <td>cce40cdfd9ef53882386d319d3179696.jpg</td>\n",
       "      <td>04</td>\n",
       "    </tr>\n",
       "    <tr>\n",
       "      <th>2</th>\n",
       "      <td>5989e05d9f73748f938a6da6b9d5fd7c.jpg</td>\n",
       "      <td>10</td>\n",
       "    </tr>\n",
       "    <tr>\n",
       "      <th>3</th>\n",
       "      <td>0c95bf0651bd02f7a5a193b9f430ed52.jpg</td>\n",
       "      <td>33</td>\n",
       "    </tr>\n",
       "    <tr>\n",
       "      <th>4</th>\n",
       "      <td>eaa93b6461bfa7868273b759b9e3c125.jpg</td>\n",
       "      <td>23</td>\n",
       "    </tr>\n",
       "    <tr>\n",
       "      <th>...</th>\n",
       "      <td>...</td>\n",
       "      <td>...</td>\n",
       "    </tr>\n",
       "    <tr>\n",
       "      <th>12181</th>\n",
       "      <td>3feb40ea8c99f2b0c3d6a1bcaca7f8cf.jpg</td>\n",
       "      <td>18</td>\n",
       "    </tr>\n",
       "    <tr>\n",
       "      <th>12182</th>\n",
       "      <td>ceb6db5d91b0e0934f25b9a97a0b0d4e.jpg</td>\n",
       "      <td>37</td>\n",
       "    </tr>\n",
       "    <tr>\n",
       "      <th>12183</th>\n",
       "      <td>18cbecd37fa0eb34743070354edd01f8.jpg</td>\n",
       "      <td>34</td>\n",
       "    </tr>\n",
       "    <tr>\n",
       "      <th>12184</th>\n",
       "      <td>f9d85e33f40d1702ec514e5e82cd3f6c.jpg</td>\n",
       "      <td>40</td>\n",
       "    </tr>\n",
       "    <tr>\n",
       "      <th>12185</th>\n",
       "      <td>f614e1799f92933b16d69a39d0aa9cc5.jpg</td>\n",
       "      <td>05</td>\n",
       "    </tr>\n",
       "  </tbody>\n",
       "</table>\n",
       "<p>12186 rows × 2 columns</p>\n",
       "</div>"
      ],
      "text/plain": [
       "                                   filename category\n",
       "0      fd663cf2b6e1d7b02938c6aaae0a32d2.jpg       20\n",
       "1      cce40cdfd9ef53882386d319d3179696.jpg       04\n",
       "2      5989e05d9f73748f938a6da6b9d5fd7c.jpg       10\n",
       "3      0c95bf0651bd02f7a5a193b9f430ed52.jpg       33\n",
       "4      eaa93b6461bfa7868273b759b9e3c125.jpg       23\n",
       "...                                     ...      ...\n",
       "12181  3feb40ea8c99f2b0c3d6a1bcaca7f8cf.jpg       18\n",
       "12182  ceb6db5d91b0e0934f25b9a97a0b0d4e.jpg       37\n",
       "12183  18cbecd37fa0eb34743070354edd01f8.jpg       34\n",
       "12184  f9d85e33f40d1702ec514e5e82cd3f6c.jpg       40\n",
       "12185  f614e1799f92933b16d69a39d0aa9cc5.jpg       05\n",
       "\n",
       "[12186 rows x 2 columns]"
      ]
     },
     "execution_count": 36,
     "metadata": {},
     "output_type": "execute_result"
    }
   ],
   "source": [
    "pred_tta_all = np.mean(np.array([model_pred, model_pred_tta_0, model_pred_tta_1, model_pred_tta_2]), axis=0)\n",
    "pred_tta_all = np.argmax(pred_tta_all, axis=-1)\n",
    "\n",
    "test_ds = get_test_dataset(ordered=True) # since we are splitting the dataset and iterating separately on images and ids, order matters.\n",
    "\n",
    "test_ids_ds = test_ds.map(lambda iw, filename: filename).unbatch()\n",
    "test_ids = next(iter(test_ids_ds.batch(pred_tta_all.shape[0]))).numpy().astype('U') # all in one batch\n",
    "\n",
    "df_submission_tta_all = pd.DataFrame({'filename': test_ids, 'category': pred_tta_all})\n",
    "df_submission_tta_all = df_submission.drop_duplicates()\n",
    "df_submission_tta_all['category'] = df_submission_tta_all['category'].apply(lambda c: str(c).zfill(2))\n",
    "df_submission_tta_all"
   ]
  },
  {
   "cell_type": "code",
   "execution_count": 37,
   "metadata": {},
   "outputs": [
    {
     "name": "stdout",
     "output_type": "stream",
     "text": [
      "filename,category\r\n",
      "fd663cf2b6e1d7b02938c6aaae0a32d2.jpg,20\r\n",
      "cce40cdfd9ef53882386d319d3179696.jpg,04\r\n",
      "5989e05d9f73748f938a6da6b9d5fd7c.jpg,10\r\n",
      "0c95bf0651bd02f7a5a193b9f430ed52.jpg,33\r\n",
      "eaa93b6461bfa7868273b759b9e3c125.jpg,23\r\n",
      "3d7b10a9f6d55bbd14a72d803aec2ce4.jpg,05\r\n",
      "24fb326378e62fa541ee7f0f3d329afa.jpg,28\r\n",
      "a76a602031927190740b582ee87d3bf8.jpg,07\r\n",
      "cf5441e526c9db16787de0277938be76.jpg,39\r\n"
     ]
    }
   ],
   "source": [
    "df_submission_tta_all.to_csv('submission_tta_all.csv', index=False)\n",
    "!head submission_tta_all.csv"
   ]
  },
  {
   "cell_type": "markdown",
   "execution_count": null,
   "metadata": {},
   "source": [
    "## Save model"
   ]
  },
  {
   "cell_type": "code",
   "execution_count": 38,
   "metadata": {},
   "outputs": [],
   "source": [
    "model.save('model.h5')\n",
    "model.save_weights('model_weights.h5')"
   ]
  },
  {
   "cell_type": "code",
   "execution_count": 39,
   "metadata": {},
   "outputs": [
    {
     "name": "stdout",
     "output_type": "stream",
     "text": [
      "Post training time : 249.875486 seconds\n"
     ]
    }
   ],
   "source": [
    "print(f'Post training time : {(datetime.now() - POST_TRAINING_TIME_START).total_seconds()} seconds')"
   ]
  }
 ],
 "metadata": {
  "kernelspec": {
   "display_name": "Python 3",
   "language": "python",
   "name": "python3"
  },
  "language_info": {
   "codemirror_mode": {
    "name": "ipython",
    "version": 3
   },
   "file_extension": ".py",
   "mimetype": "text/x-python",
   "name": "python",
   "nbconvert_exporter": "python",
   "pygments_lexer": "ipython3",
   "version": "3.7.6"
  }
 },
 "nbformat": 4,
 "nbformat_minor": 4
}
